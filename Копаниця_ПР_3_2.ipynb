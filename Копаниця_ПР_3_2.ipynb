{
  "nbformat": 4,
  "nbformat_minor": 0,
  "metadata": {
    "colab": {
      "provenance": []
    },
    "kernelspec": {
      "name": "python3",
      "display_name": "Python 3"
    },
    "language_info": {
      "name": "python"
    }
  },
  "cells": [
    {
      "cell_type": "code",
      "execution_count": 1,
      "metadata": {
        "colab": {
          "base_uri": "https://localhost:8080/"
        },
        "id": "FNurgwjAFgWC",
        "outputId": "dbc2ddfc-f92b-4a58-c231-31804170b5bf"
      },
      "outputs": [
        {
          "output_type": "stream",
          "name": "stdout",
          "text": [
            "Requirement already satisfied: pandas in /usr/local/lib/python3.10/dist-packages (1.5.3)\n",
            "Requirement already satisfied: python-dateutil>=2.8.1 in /usr/local/lib/python3.10/dist-packages (from pandas) (2.8.2)\n",
            "Requirement already satisfied: pytz>=2020.1 in /usr/local/lib/python3.10/dist-packages (from pandas) (2023.3.post1)\n",
            "Requirement already satisfied: numpy>=1.21.0 in /usr/local/lib/python3.10/dist-packages (from pandas) (1.23.5)\n",
            "Requirement already satisfied: six>=1.5 in /usr/local/lib/python3.10/dist-packages (from python-dateutil>=2.8.1->pandas) (1.16.0)\n"
          ]
        }
      ],
      "source": [
        "pip install pandas"
      ]
    },
    {
      "cell_type": "code",
      "source": [
        "#1. Прочитайте csv файл (метод read_csv)\n",
        "import pandas as pd\n",
        "\n",
        "# Вкажіть шлях до вашого CSV-файлу\n",
        "file_path = \"/content/bestsellers with categories.csv\"\n",
        "\n",
        "# Використовуйте метод read_csv для зчитування файлу\n",
        "data = pd.read_csv(file_path)\n",
        "\n"
      ],
      "metadata": {
        "id": "mJ4UqEVlFlT7"
      },
      "execution_count": 2,
      "outputs": []
    },
    {
      "cell_type": "code",
      "source": [
        "#2.Виведіть перші 10 рядків (метод head)\n",
        "print(data.head(10))\n"
      ],
      "metadata": {
        "colab": {
          "base_uri": "https://localhost:8080/"
        },
        "id": "JLdrSfa9GUwV",
        "outputId": "8c846b4f-5771-454a-ccad-2bb01474d26d"
      },
      "execution_count": 8,
      "outputs": [
        {
          "output_type": "stream",
          "name": "stdout",
          "text": [
            "                                                Name  \\\n",
            "0                      10-Day Green Smoothie Cleanse   \n",
            "1                                  11/22/63: A Novel   \n",
            "2            12 Rules for Life: An Antidote to Chaos   \n",
            "3                             1984 (Signet Classics)   \n",
            "4  5,000 Awesome Facts (About Everything!) (Natio...   \n",
            "5      A Dance with Dragons (A Song of Ice and Fire)   \n",
            "6  A Game of Thrones / A Clash of Kings / A Storm...   \n",
            "7                     A Gentleman in Moscow: A Novel   \n",
            "8      A Higher Loyalty: Truth, Lies, and Leadership   \n",
            "9                          A Man Called Ove: A Novel   \n",
            "\n",
            "                     Author  User Rating  Reviews  Price  Year        Genre  \n",
            "0                  JJ Smith          4.7    17350      8  2016  Non Fiction  \n",
            "1              Stephen King          4.6     2052     22  2011      Fiction  \n",
            "2        Jordan B. Peterson          4.7    18979     15  2018  Non Fiction  \n",
            "3             George Orwell          4.7    21424      6  2017      Fiction  \n",
            "4  National Geographic Kids          4.8     7665     12  2019  Non Fiction  \n",
            "5       George R. R. Martin          4.4    12643     11  2011      Fiction  \n",
            "6       George R. R. Martin          4.7    19735     30  2014      Fiction  \n",
            "7               Amor Towles          4.7    19699     15  2017      Fiction  \n",
            "8               James Comey          4.7     5983      3  2018  Non Fiction  \n",
            "9           Fredrik Backman          4.6    23848      8  2016      Fiction  \n"
          ]
        }
      ]
    },
    {
      "cell_type": "code",
      "source": [
        "#3.Виведіть розміри датасету (метод shape)\n",
        "import pandas as pd\n",
        "\n",
        "shape = data.shape\n",
        "print(\"Кількість рядків:\", shape[0])\n",
        "print(\"Кількість стовпців:\", shape[1])\n",
        "#Питання: Про скільки книг зберігає дані датасет?\n",
        "#Відповідь про 550 книг"
      ],
      "metadata": {
        "colab": {
          "base_uri": "https://localhost:8080/"
        },
        "id": "exUTPquRGcv4",
        "outputId": "a713638c-7153-456f-89d3-6dfa6ee2b594"
      },
      "execution_count": 9,
      "outputs": [
        {
          "output_type": "stream",
          "name": "stdout",
          "text": [
            "Кількість рядків: 550\n",
            "Кількість стовпців: 7\n"
          ]
        }
      ]
    },
    {
      "cell_type": "code",
      "source": [
        "#Змініть назви всіх колонок: назва з маленької букви, без пробілів через підкреслення.\n",
        "import pandas as pd\n",
        "# Змініть назви колонок\n",
        "data.columns = ['name', 'author', 'user_rating', 'reviews', 'price', 'year', 'genre']\n",
        "# Виведіть оновлені назви колонок\n",
        "print(data.columns)\n"
      ],
      "metadata": {
        "colab": {
          "base_uri": "https://localhost:8080/"
        },
        "id": "lMImXlHqG2Xd",
        "outputId": "43693eca-7c05-49c7-e2f7-affbcc3ed291"
      },
      "execution_count": 10,
      "outputs": [
        {
          "output_type": "stream",
          "name": "stdout",
          "text": [
            "Index(['name', 'author', 'user_rating', 'reviews', 'price', 'year', 'genre'], dtype='object')\n"
          ]
        }
      ]
    },
    {
      "cell_type": "code",
      "source": [
        "#5.Вивести кількість пропусків у кожному стовпчику.\n",
        "import pandas as pd\n",
        "# Виведіть кількість пропусків у кожному стовпчику\n",
        "missing_values = data.isnull().sum()\n",
        "print(missing_values)\n",
        "#Чи є в якихось змінних пропуски?\n",
        "#Ні"
      ],
      "metadata": {
        "colab": {
          "base_uri": "https://localhost:8080/"
        },
        "id": "giOwRJs5HNwc",
        "outputId": "49bb2ad7-6c64-4839-c176-ca69e4bbd1da"
      },
      "execution_count": 11,
      "outputs": [
        {
          "output_type": "stream",
          "name": "stdout",
          "text": [
            "name           0\n",
            "author         0\n",
            "user_rating    0\n",
            "reviews        0\n",
            "price          0\n",
            "year           0\n",
            "genre          0\n",
            "dtype: int64\n"
          ]
        }
      ]
    },
    {
      "cell_type": "code",
      "source": [
        "#6.За допомогою методу unique  перевірте. Які є унікальні жанри в стовпці genre\n",
        "\n",
        "# Виведіть унікальні жанри у стовпці \"genre\"\n",
        "unique_genres = data['genre'].unique()\n",
        "\n",
        "# Виведіть список унікальних жанрів\n",
        "print(\"Унікальні жанри:\")\n",
        "for genre in unique_genres:\n",
        "    print(genre)\n",
        "#Питання : Які є унікальні жанри?\n",
        "#Унікальні жанри:Non Fiction,Fiction"
      ],
      "metadata": {
        "colab": {
          "base_uri": "https://localhost:8080/"
        },
        "id": "A_yrtQYwHwHL",
        "outputId": "e88d1f6c-5c53-472e-df41-e0d02386299f"
      },
      "execution_count": 13,
      "outputs": [
        {
          "output_type": "stream",
          "name": "stdout",
          "text": [
            "Унікальні жанри:\n",
            "Non Fiction\n",
            "Fiction\n"
          ]
        }
      ]
    },
    {
      "cell_type": "code",
      "source": [
        "#7.Визначте максимальну, мінімальну, медіанну ціну за допомогою методів  max, min, mean, median\n",
        "import pandas as pd\n",
        "\n",
        "\n",
        "# Максимальна ціна\n",
        "max_price = data['price'].max()\n",
        "\n",
        "# Мінімальна ціна\n",
        "min_price = data['price'].min()\n",
        "\n",
        "# Середня ціна\n",
        "mean_price = data['price'].mean()\n",
        "\n",
        "# Медіанна ціна\n",
        "median_price = data['price'].median()\n",
        "\n",
        "\n",
        "# Виведення результатів\n",
        "print(\"Максимальна ціна:\", max_price)\n",
        "print(\"Мінімальна ціна:\", min_price)\n",
        "print(\"Середня ціна:\", mean_price)\n",
        "print(\"Медіанна ціна:\", median_price)"
      ],
      "metadata": {
        "colab": {
          "base_uri": "https://localhost:8080/"
        },
        "id": "LOye5zPlH5JX",
        "outputId": "cdda3d9d-600d-4bb2-82eb-85f10941fb52"
      },
      "execution_count": 14,
      "outputs": [
        {
          "output_type": "stream",
          "name": "stdout",
          "text": [
            "Максимальна ціна: 105\n",
            "Мінімальна ціна: 0\n",
            "Середня ціна: 13.1\n",
            "Медіанна ціна: 11.0\n"
          ]
        }
      ]
    },
    {
      "cell_type": "code",
      "source": [
        "#8.Виконайте наступні завдання з пошуку і сортування даних\n",
        "import pandas as pd\n",
        "\n",
        "#  Питання: Який рейтинг у датасеті найвищий?\n",
        "# Завдання 1: Найвищий рейтинг\n",
        "max_rating = data['user_rating'].max()\n",
        "\n",
        "# Завдання 2: Кількість книг з найвищим рейтингом\n",
        "count_books_with_max_rating = len(data[data['user_rating'] == max_rating])\n",
        "\n",
        "# Завдання 3: Книга з найбільшою кількістю відгуків\n",
        "max_reviews_book = data[data['reviews'] == data['reviews'].max()]\n",
        "\n",
        "# Завдання 4: Найдорожча книга серед тих, що потрапили до Топ-50 у 2010 році\n",
        "top_2010_books = data[data['year'] == 2010]\n",
        "most_expensive_2010_book = top_2010_books[top_2010_books['price'] == top_2010_books['price'].max()]\n",
        "\n",
        "# Завдання 5: Кількість книг жанру Fiction, що потрапили до Топ-50 у 2012 році\n",
        "fiction_2012_books = data[(data['genre'] == 'Fiction') & (data['year'] == 2012)]\n",
        "count_fiction_2012_books = len(fiction_2012_books)\n",
        "\n",
        "# Завдання 6: Кількість книг з рейтингом 4.9, що потрапило до рейтингу у 2010 та 2011 роках\n",
        "years_2010_2011 = [2010, 2011]\n",
        "rating_4_9_books_2010_2011 = data[(data['user_rating'] == 4.9) & (data['year'].isin(years_2010_2011))]\n",
        "\n",
        "# Виведення результатів\n",
        "print(\"Завдання 1: Найвищий рейтинг:\", max_rating)\n",
        "print(\"Завдання 2: Кількість книг з найвищим рейтингом:\", count_books_with_max_rating)\n",
        "print(\"Завдання 3: Книга з найбільшою кількістю відгуків:\")\n",
        "print(max_reviews_book[['name', 'reviews']])\n",
        "print(\"Завдання 4: Найдорожча книга серед тих, що потрапили до Топ-50 у 2010 році:\")\n",
        "print(most_expensive_2010_book[['name', 'price']])\n",
        "print(\"Завдання 5: Кількість книг жанру Fiction, що потрапили до Топ-50 у 2012 році:\", count_fiction_2012_books)\n",
        "print(\"Завдання 6: Кількість книг з рейтингом 4.9, що потрапило до рейтингу у 2010 та 2011 роках:\", len(rating_4_9_books_2010_2011))\n"
      ],
      "metadata": {
        "colab": {
          "base_uri": "https://localhost:8080/"
        },
        "id": "6Fg_isR3IkJr",
        "outputId": "3b10515c-5749-45be-db42-77104a394e0f"
      },
      "execution_count": 18,
      "outputs": [
        {
          "output_type": "stream",
          "name": "stdout",
          "text": [
            "Завдання 1: Найвищий рейтинг: 4.9\n",
            "Завдання 2: Кількість книг з найвищим рейтингом: 52\n",
            "Завдання 3: Книга з найбільшою кількістю відгуків:\n",
            "                        name  reviews\n",
            "534  Where the Crawdads Sing    87841\n",
            "Завдання 4: Найдорожча книга серед тих, що потрапили до Топ-50 у 2010 році:\n",
            "                                                  name  price\n",
            "272  Publication Manual of the American Psychologic...     46\n",
            "Завдання 5: Кількість книг жанру Fiction, що потрапили до Топ-50 у 2012 році: 21\n",
            "Завдання 6: Кількість книг з рейтингом 4.9, що потрапило до рейтингу у 2010 та 2011 роках: 1\n"
          ]
        }
      ]
    },
    {
      "cell_type": "code",
      "source": [
        "#9.Вивести максимальну і  мінімальну ціну для жанру Fiction I NonFiction (за допомогою методів  groupby та agg, для підрахунку мінімальних та максимальних значень використовуйте max та min). Використовуйте тількі потрібні вам стовпці.\n",
        "import pandas as pd\n",
        "\n",
        "\n",
        "# Виберіть потрібні стовпці: 'genre' і 'price'\n",
        "selected_columns = ['genre', 'price']\n",
        "selected_data = data[selected_columns]\n",
        "\n",
        "# Згрупуйте дані за жанром та обчисліть максимальну та мінімальну ціну для кожного жанру\n",
        "result = selected_data.groupby('genre').agg({'price': ['max', 'min']})\n",
        "\n",
        "# Перейменуйте стовпці для більшої зрозумілості\n",
        "result.columns = ['Максимальна ціна', 'Мінімальна ціна']\n",
        "\n",
        "# Виведіть результат\n",
        "print(result)\n"
      ],
      "metadata": {
        "colab": {
          "base_uri": "https://localhost:8080/"
        },
        "id": "Fmm0H7bdJaFJ",
        "outputId": "fbf07687-1742-4fa1-b246-86037ba0adc5"
      },
      "execution_count": 19,
      "outputs": [
        {
          "output_type": "stream",
          "name": "stdout",
          "text": [
            "             Максимальна ціна  Мінімальна ціна\n",
            "genre                                         \n",
            "Fiction                    82                0\n",
            "Non Fiction               105                0\n"
          ]
        }
      ]
    }
  ]
}