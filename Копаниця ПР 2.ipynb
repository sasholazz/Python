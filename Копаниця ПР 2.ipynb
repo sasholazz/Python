{
  "nbformat": 4,
  "nbformat_minor": 0,
  "metadata": {
    "colab": {
      "provenance": []
    },
    "kernelspec": {
      "name": "python3",
      "display_name": "Python 3"
    },
    "language_info": {
      "name": "python"
    }
  },
  "cells": [
    {
      "cell_type": "code",
      "execution_count": null,
      "metadata": {
        "colab": {
          "base_uri": "https://localhost:8080/"
        },
        "id": "uFtg4uFvJIHo",
        "outputId": "b429dc88-84af-48a1-984e-5011edd89ad2"
      },
      "outputs": [
        {
          "output_type": "stream",
          "name": "stdout",
          "text": [
            "    Рік В національній валюті В доларах США  \\\n",
            "0  1992              5832,88▲        28,04▼   \n",
            "1  1993               163533▲        36,03▲   \n",
            "2  1994              1426343▲        44,99▲   \n",
            "3  1995              7304000▲        49,53▲   \n",
            "4  1996               125,23▼        68,45▲   \n",
            "\n",
            "  Кількість кг хліба[20] на середню зарплату  \\\n",
            "0                                   1015,67▲   \n",
            "1                                    430,42▼   \n",
            "2                                    372,76▼   \n",
            "3                                    201,76▼   \n",
            "4                                    198,62▼   \n",
            "\n",
            "  Кількість БігМаків на середню зарплату  \n",
            "0                                      —  \n",
            "1                                      —  \n",
            "2                                      —  \n",
            "3                                      —  \n",
            "4                                      —  \n"
          ]
        }
      ],
      "source": [
        "#Завдання 1\n",
        "#Виведіть перші 5 рядків таблиці.\n",
        "import pandas as pd\n",
        "import numpy as np\n",
        "\n",
        "url = \"https://uk.wikipedia.org/wiki/%D0%A1%D0%B5%D1%80%D0%B5%D0%B4%D0%BD%D1%8F_%D0%B7%D0%B0%D1%80%D0%BE%D0%B1%D1%96%D1%82%D0%BD%D0%B0_%D0%BF%D0%BB%D0%B0%D1%82%D0%B0_%D0%B2_%D0%A3%D0%BA%D1%80%D0%B0%D1%97%D0%BD%D1%96\"\n",
        "\n",
        "data = pd.read_html(url, header=0)[2]\n",
        "\n",
        "print(data.head(5))\n"
      ]
    },
    {
      "cell_type": "code",
      "source": [
        "#Завдання 2\n",
        "#Визначте кількість рядків і стовпчиків за допомогою атрибуту shape\n",
        "import pandas as pd\n",
        "import numpy as np\n",
        "\n",
        "url = \"https://uk.wikipedia.org/wiki/%D0%A1%D0%B5%D1%80%D0%B5%D0%B4%D0%BD%D1%8F_%D0%B7%D0%B0%D1%80%D0%BE%D0%B1%D1%96%D1%82%D0%BD%D0%B0_%D0%BF%D0%BB%D0%B0%D1%82%D0%B0_%D0%B2_%D0%A3%D0%BA%D1%80%D0%B0%D1%97%D0%BD%D1%96\"\n",
        "data = pd.read_html(url, header=0)[2]\n",
        "\n",
        "кількість_рядків, кількість_стовпчиків = data.shape\n",
        "print(f\"Кількість рядків: {кількість_рядків}\")\n",
        "print(f\"Кількість стовпчиків: {кількість_стовпчиків}\")\n"
      ],
      "metadata": {
        "colab": {
          "base_uri": "https://localhost:8080/"
        },
        "id": "zXPAT-6PJee7",
        "outputId": "0fd8a7a8-4d6e-46b4-c132-96b94615d547"
      },
      "execution_count": null,
      "outputs": [
        {
          "output_type": "stream",
          "name": "stdout",
          "text": [
            "Кількість рядків: 32\n",
            "Кількість стовпчиків: 5\n"
          ]
        }
      ]
    },
    {
      "cell_type": "code",
      "source": [
        "#Завдання 3\n",
        "#Визначте загальну кількість років та кількість місяців у даних.\n",
        "import pandas as pd\n",
        "\n",
        "url = \"https://uk.wikipedia.org/wiki/%D0%A1%D0%B5%D1%80%D0%B5%D0%B4%D0%BD%D1%8F_%D0%B7%D0%B0%D1%80%D0%BE%D0%B1%D1%96%D1%82%D0%BD%D0%B0_%D0%BF%D0%BB%D0%B0%D1%82%D0%B0_%D0%B2_%D0%A3%D0%BA%D1%80%D0%B0%D1%97%D0%BD%D1%96\"\n",
        "\n",
        "data = pd.read_html(url, header=0)[2]\n",
        "\n",
        "data['Дата'] = pd.to_datetime(data['Дата'])\n",
        "data['Рік'] = data['Дата'].dt.year\n",
        "data['Місяць'] = data['Дата'].dt.month\n",
        "\n",
        "кількість_років = data['Рік'].nunique()\n",
        "кількість_місяців = data['Місяць'].nunique()\n",
        "\n",
        "print(f'Загальна кількість років: {кількість_років}')\n",
        "print(f'Загальна кількість місяців: {кількість_місяців}')\n",
        "\n"
      ],
      "metadata": {
        "id": "aby922AwJdw2"
      },
      "execution_count": null,
      "outputs": []
    },
    {
      "cell_type": "code",
      "source": [
        "#Завдання 4\n",
        "#Замінити пропущені значення  «-» в таблиці на NaN\n",
        "import pandas as pd\n",
        "\n",
        "import numpy as np\n",
        "\n",
        "url = \"https://uk.wikipedia.org/wiki/%D0%A1%D0%B5%D1%80%D0%B5%D0%B4%D0%BD%D1%8F_%D0%B7%D0%B0%D1%80%D0%BE%D0%B1%D1%96%D1%82%D0%BD%D0%B0_%D0%BF%D0%BB%D0%B0%D1%82%D0%B0_%D0%B2_%D0%A3%D0%BA%D1%80%D0%B0%D1%97%D0%BD%D1%96\"\n",
        "\n",
        "data = pd.read_html(url, header=0)[2]\n",
        "\n",
        "data.replace(\"-\", np.nan, inplace=True)\n"
      ],
      "metadata": {
        "id": "Oi9hJR3mKf4I"
      },
      "execution_count": null,
      "outputs": []
    },
    {
      "cell_type": "code",
      "source": [
        "#Завдання 5\n",
        "#Визначити тип стовпців за допомогою dtypes.\n",
        "import pandas as pd\n",
        "import numpy as np\n",
        "\n",
        "url = \"https://uk.wikipedia.org/wiki/%D0%A1%D0%B5%D1%80%D0%B5%D0%B4%D0%BD%D1%8F_%D0%B7%D0%B0%D1%80%D0%BE%D0%B1%D1%96%D1%82%D0%BD%D0%B0_%D0%BF%D0%BB%D0%B0%D1%82%D0%B0_%D0%B2_%D0%A3%D0%BA%D1%80%D0%B0%D1%97%D0%BD%D1%96\"\n",
        "\n",
        "data = pd.read_html(url, header=0)[2]\n",
        "column_types = data.dtypes\n",
        "print(column_types)\n"
      ],
      "metadata": {
        "colab": {
          "base_uri": "https://localhost:8080/"
        },
        "id": "3s6MeJlkKgDK",
        "outputId": "4c095a2d-b372-4fee-b433-6d7a7ebc632e"
      },
      "execution_count": null,
      "outputs": [
        {
          "output_type": "stream",
          "name": "stdout",
          "text": [
            "Рік                                           object\n",
            "В національній валюті                         object\n",
            "В доларах США                                 object\n",
            "Кількість кг хліба[20] на середню зарплату    object\n",
            "Кількість БігМаків на середню зарплату        object\n",
            "dtype: object\n"
          ]
        }
      ]
    },
    {
      "cell_type": "code",
      "source": [
        "#Завдання 6\n",
        "#Видаліть передостанній і останній стовпчики ( Кількість кгхліба[20] на середнюзарплату,  Кільксть БігМаків на середню зарплату). Далі працюйте з оновленою таблицею.\n",
        "import pandas as pd\n",
        "\n",
        "url = \"https://uk.wikipedia.org/wiki/%D0%A1%D0%B5%D1%80%D0%B5%D0%B4%D0%BD%D1%8F_%D0%B7%D0%B0%D1%80%D0%BE%D0%B1%D1%96%D1%82%D0%BD%D0%B0_%D0%BF%D0%BB%D0%B0%D1%82%D0%B0_%D0%B2_%D0%A3%D0%BA%D1%80%D0%B0%D1%97%D0%BD%D1%96\"\n",
        "\n",
        "data = pd.read_html(url, header=0)[2]\n",
        "\n",
        "data = data.iloc[:, :-2]"
      ],
      "metadata": {
        "id": "TZXLEtjaKgeB"
      },
      "execution_count": null,
      "outputs": []
    },
    {
      "cell_type": "code",
      "source": [
        "#Завдання 7\n",
        "#Замінити тип нечислових даних на числові\n",
        "import pandas as pd\n",
        "\n",
        "import numpy as np\n",
        "\n",
        "url = \"https://uk.wikipedia.org/wiki/%D0%A1%D0%B5%D1%80%D0%B5%D0%B4%D0%BD%D1%8F_%D0%B7%D0%B0%D1%80%D0%BE%D0%B1%D1%96%D1%82%D0%BD%D0%B0_%D0%BF%D0%BB%D0%B0%D1%82%D0%B0_%D0%B2_%D0%A3%D0%BA%D1%80%D0%B0%D1%97%D0%BD%D1%96\"\n",
        "\n",
        "data = pd.read_html(url, header=0)[2]\n",
        "\n",
        "def convert_to_numeric(value):\n",
        "    try:\n",
        "        return pd.to_numeric(value, errors='coerce')\n",
        "    except ValueError:\n",
        "        return np.nan\n",
        "\n",
        "data = data.applymap(convert_to_numeric)"
      ],
      "metadata": {
        "id": "a5hXA32jKguV"
      },
      "execution_count": null,
      "outputs": []
    },
    {
      "cell_type": "code",
      "source": [
        "#Завдання 8\n",
        "#Порахуйте частку пропусків в кожній колонці (за допомогою методів isnull , sum, len)\n",
        "import pandas as pd\n",
        "\n",
        "url = \"https://uk.wikipedia.org/wiki/%D0%A1%D0%B5%D1%80%D0%B5%D0%B4%D0%BD%D1%8F_%D0%B7%D0%B0%D1%80%D0%BE%D0%B1%D1%96%D1%82%D0%BD%D0%B0_%D0%BF%D0%BB%D0%B0%D1%82%D0%B0_%D0%B2_%D0%A3%D0%BA%D1%80%D0%B0%D1%97%D0%BD%D1%96\"\n",
        "\n",
        "data = pd.read_html(url, header=0)[2]\n",
        "\n",
        "missing_percentages = (data.isnull().sum() / len(data)) * 100\n",
        "\n",
        "print(\"Процент пропусків в кожній колонці:\")\n",
        "print(missing_percentages)\n"
      ],
      "metadata": {
        "colab": {
          "base_uri": "https://localhost:8080/"
        },
        "id": "72neWS3oKg4V",
        "outputId": "ddfa2769-d666-48ec-b916-62071260873e"
      },
      "execution_count": null,
      "outputs": [
        {
          "output_type": "stream",
          "name": "stdout",
          "text": [
            "Процент пропусків в кожній колонці:\n",
            "Рік                                           0.0\n",
            "В національній валюті                         0.0\n",
            "В доларах США                                 0.0\n",
            "Кількість кг хліба[20] на середню зарплату    0.0\n",
            "Кількість БігМаків на середню зарплату        0.0\n",
            "dtype: float64\n"
          ]
        }
      ]
    },
    {
      "cell_type": "code",
      "source": [
        "#Завдання 9\n",
        "#Замініть всі пропущені значення на середні значення по (стовпцю)\n",
        "import pandas as pd\n",
        "import numpy as np\n",
        "\n",
        "url = \"https://uk.wikipedia.org/wiki/%D0%A1%D0%B5%D1%80%D0%B5%D0%B4%D0%BD%D1%8F_%D0%B7%D0%B0%D1%80%D0%BE%D0%B1%D1%96%D1%82%D0%BD%D0%B0_%D0%BF%D0%BB%D0%B0%D1%82%D0%B0_%D0%B2_%D0%A3%D0%BA%D1%80%D0%B0%D1%97%D0%BD%D1%96\"\n",
        "\n",
        "data = pd.read_html(url, header=0)[2]\n",
        "\n",
        "mean_values = data.mean()\n",
        "\n",
        "data = data.fillna(mean_values)\n",
        "\n",
        "print(data)\n"
      ],
      "metadata": {
        "colab": {
          "base_uri": "https://localhost:8080/"
        },
        "id": "FN07r6QiKhBU",
        "outputId": "9a9e6406-b008-4251-e80c-64d1e5b92deb"
      },
      "execution_count": null,
      "outputs": [
        {
          "output_type": "stream",
          "name": "stdout",
          "text": [
            "      Рік В національній валюті В доларах США  \\\n",
            "0    1992              5832,88▲        28,04▼   \n",
            "1    1993               163533▲        36,03▲   \n",
            "2    1994              1426343▲        44,99▲   \n",
            "3    1995              7304000▲        49,53▲   \n",
            "4    1996               125,23▼        68,45▲   \n",
            "5    1997               143,09▲        76,86▲   \n",
            "6    1998               152,83▲        62,39▼   \n",
            "7    1999               177,39▲        42,95▼   \n",
            "8    2000               231,04▲        42,47▼   \n",
            "9    2001               311,62▲        58,01▲   \n",
            "10   2002               375,98▲        70,59▲   \n",
            "11   2003               462,58▲        86,74▲   \n",
            "12   2004               590,53▲       111,02▲   \n",
            "13   2005               806,14▲       157,30▲   \n",
            "14   2006              1042,88▲       206,51▲   \n",
            "15   2007              1352,75▲       267,87▲   \n",
            "16   2008              1808,92▲       343,43▲   \n",
            "17   2009              1909,25▲       245,05▼   \n",
            "18   2010              2246,75▲       283,12▲   \n",
            "19   2011              2639,17▲       331,24▲   \n",
            "20   2012              3031,92▲       379,42▲   \n",
            "21   2013              3273,82▲       409,59▲   \n",
            "22   2014              3474,75▲       292,32▼   \n",
            "23   2015              4207,33▲       162,60▼   \n",
            "24   2016              5187,33▲       203,02▲   \n",
            "25   2017              7105,42▲       267,16▲   \n",
            "26   2018              8867,33▲       325,99▲   \n",
            "27   2019             10503,75▲       406,40▲   \n",
            "28   2020             11596,60▲       430,21▲   \n",
            "29   2021             14017,80▲       514,41▲   \n",
            "30  2022*             13376,21▼       380,00▼   \n",
            "31  2023*             12954,12▼       327,70▼   \n",
            "\n",
            "   Кількість кг хліба[20] на середню зарплату  \\\n",
            "0                                    1015,67▲   \n",
            "1                                     430,42▼   \n",
            "2                                     372,76▼   \n",
            "3                                     201,76▼   \n",
            "4                                     198,62▼   \n",
            "5                                     211,13▲   \n",
            "6                                     177,69▼   \n",
            "7                                     180,68▲   \n",
            "8                                     117,51▼   \n",
            "9                                     153,57▲   \n",
            "10                                    213,84▲   \n",
            "11                                    276,27▲   \n",
            "12                                    276,06▼   \n",
            "13                                    332,05▲   \n",
            "14                                    441,28▲   \n",
            "15                                    498,66▲   \n",
            "16                                    585,00▲   \n",
            "17                                    497,02▼   \n",
            "18                                    527,82▲   \n",
            "19                                    564,37▲   \n",
            "20                                    585,38▲   \n",
            "21                                    625,00▲   \n",
            "22                                    642,39▲   \n",
            "23                                    517,22▼   \n",
            "24                                    441,05▼   \n",
            "25                                    450,35▲   \n",
            "26                                    497,05▲   \n",
            "27                                    528,09▲   \n",
            "28                                    549,08▲   \n",
            "29                                    560,03▲   \n",
            "30                                    409,57▼   \n",
            "31                                    367,85▼   \n",
            "\n",
            "   Кількість БігМаків на середню зарплату  \n",
            "0                                       —  \n",
            "1                                       —  \n",
            "2                                       —  \n",
            "3                                       —  \n",
            "4                                       —  \n",
            "5                                  20[21]  \n",
            "6                                    н.д.  \n",
            "7                                 24▲[22]  \n",
            "8                                    н.д.  \n",
            "9                                 50▲[23]  \n",
            "10                                   н.д.  \n",
            "11                                   н.д.  \n",
            "12                                    81▲  \n",
            "13                                   111▲  \n",
            "14                                   123▲  \n",
            "15                                   146▲  \n",
            "16                                   164▲  \n",
            "17                                   136▼  \n",
            "18                                   155▲  \n",
            "19                                   160▲  \n",
            "20                                   202▲  \n",
            "21                                   172▼  \n",
            "22                                   182▲  \n",
            "23                                   124▼  \n",
            "24                                   133▲  \n",
            "25                                   161▲  \n",
            "26                                   177▲  \n",
            "27                                   184▲  \n",
            "28                                   187▲  \n",
            "29                                   216▲  \n",
            "30                                   132▼  \n",
            "31                                   123▼  \n"
          ]
        },
        {
          "output_type": "stream",
          "name": "stderr",
          "text": [
            "<ipython-input-29-ad60f2b9ec14>:10: FutureWarning: The default value of numeric_only in DataFrame.mean is deprecated. In a future version, it will default to False. In addition, specifying 'numeric_only=None' is deprecated. Select only valid columns or specify the value of numeric_only to silence this warning.\n",
            "  mean_values = data.mean()\n"
          ]
        }
      ]
    },
    {
      "cell_type": "code",
      "source": [
        "#Завдання 10\n",
        "#Знайдіть рік з найвищою зарплатою в Україні в грн і вкажіть цю зарплату.\n",
        "\n",
        "data = data[['Рік', 'Середній заробіток в Україні, грн.']]\n",
        "і\n",
        "data.columns = ['Рік', 'Середній_заробіток_грн']\n",
        "у\n",
        "data.dropna(subset=['Середній_заробіток_грн'], inplace=True)\n",
        "\n",
        "data['Середній_заробіток_грн'] = data['Середній_заробіток_грн'].str.replace(' ', '').str.replace(',', '').astype(float)\n",
        "\n",
        "рік_з_найвищою_зарплатою = data.loc[data['Середній_заробіток_грн'].idxmax()]['Рік']\n",
        "найвища_зарплата = data['Середній_заробіток_грн'].max()\n",
        "\n",
        "print(f\"Рік з найвищою середньою зарплатою в Україні: {рік_з_найвищою_зарплатою}\")\n",
        "print(f\"Середній заробіток в Україні в {рік_з_найвищою_зарплатою} році: {найвища_зарплата} грн\")\n",
        "\n",
        "\n"
      ],
      "metadata": {
        "id": "pq1QEtiHKhKd"
      },
      "execution_count": null,
      "outputs": []
    },
    {
      "cell_type": "code",
      "source": [
        "#Завдання 11\n",
        "#Знайдіть рік з мінімальною  зарплатою в Україні в дол. США і вкажіть цю зарплату.\n",
        "import pandas as pd\n",
        "\n",
        "url = \"https://uk.wikipedia.org/wiki/%D0%A1%D0%B5%D1%80%D0%B5%D0%B4%D0%BD%D1%8F_%D0%B7%D0%B0%D1%80%D0%BE%D0%B1%D1%96%D1%82%D0%BD%D0%B0_%D0%BF%D0%BB%D0%B0%D1%82%D0%B0_%D0%B2_%D0%A3%D0%BA%D1%80%D0%B0%D1%97%D0%BD%D1%96\"\n",
        "\n",
        "data = pd.read_html(url, header=0)[2]\n",
        "\n",
        "data = data.dropna()\n",
        "\n",
        "data = data[[\"Рік\", \"Середній розмір зарплати в доларах США\"]]\n",
        "\n",
        "data[\"Середній розмір зарплати в доларах США\"] = data[\"Середній розмір зарплати в доларах США\"].str.replace(\" \", \"\").str.replace(\",\", \".\").astype(float)\n",
        "\n",
        "min_salary_year = data[\"Рік\"][data[\"Середній розмір зарплати в доларах США\"].idxmin()]\n",
        "min_salary = data[\"Середній розмір зарплати в доларах США\"].min()\n",
        "\n",
        "print(f\"Рік з мінімальною зарплатою в Україні в доларах США: {min_salary_year}\")\n",
        "print(f\"Мінімальна зарплата в Україні в доларах США: {min_salary}\")\n"
      ],
      "metadata": {
        "id": "J2l9nDu-Nw2R"
      },
      "execution_count": 3,
      "outputs": []
    },
    {
      "cell_type": "code",
      "source": [
        "#Завдання 12\n",
        "#Виведіть роки, коли зарплата в грн була вище середньої\n",
        "import pandas as pd\n",
        "\n",
        "url = \"https://uk.wikipedia.org/wiki/%D0%A1%D0%B5%D1%80%D0%B5%D0%B4%D0%BD%D1%8F_%D0%B7%D0%B0%D1%80%D0%BE%D0%B1%D1%96%D1%82%D0%BD%D0%B0_%D0%BF%D0%BB%D0%B0%D1%82%D0%B0_%D0%B2_%D0%A3%D0%BA%D1%80%D0%B0%D1%97%D0%BD%D1%96\"\n",
        "\n",
        "data = pd.read_html(url, header=0)[2]\n",
        "\n",
        "data = data.dropna()\n",
        "\n",
        "data = data[[\"Рік\", \"Середній розмір зарплати в гривнях\"]]\n",
        "\n",
        "data[\"Середній розмір зарплати в гривнях\"] = data[\"Середній розмір зарплати в гривнях\"].str.replace(\" \", \"\").str.replace(\",\", \".\").astype(float)\n",
        "\n",
        "average_salary = data[\"Середній розмір зарплати в гривнях\"].mean()\n",
        "\n",
        "years_above_average = data[\"Рік\"][data[\"Середній розмір зарплати в гривнях\"] > average_salary]\n",
        "print(f\"Роки, коли зарплата в Україні була вище середньої ({average_salary} грн):\")\n",
        "print(years_above_average.to_string(index=False))\n"
      ],
      "metadata": {
        "id": "winxfRpDNzQM"
      },
      "execution_count": 5,
      "outputs": []
    },
    {
      "cell_type": "code",
      "source": [
        "#Завдання 13\n",
        "#Створіть графік, що відображає  зарплату в Україні з часом (за роками).\n",
        "import pandas as pd\n",
        "import numpy as np\n",
        "import matplotlib.pyplot as plt\n",
        "\n",
        "url = \"https://uk.wikipedia.org/wiki/%D0%A1%D0%B5%D1%80%D0%B5%D0%B4%D0%BD%D1%8F_%D0%B7%D0%B0%D1%80%D0%BE%D0%B1%D1%96%D1%82%D0%BD%D0%B0_%D0%BF%D0%BB%D0%B0%D1%82%D0%B0_%D0%B2_%D0%A3%D0%BA%D1%80%D0%B0%D1%97%D0%BD%D1%96\"\n",
        "\n",
        "data = pd.read_html(url, header=0)[2]\n",
        "\n",
        "data = data.dropna()\n",
        "\n",
        "data = data[[\"Рік\", \"Середній розмір зарплати в гривнях\"]]\n",
        "\n",
        "data[\"Середній розмір зарплати в гривнях\"] = data[\"Середній розмір зарплати в гривнях\"].str.replace(\" \", \"\").str.replace(\",\", \".\").astype(float)\n",
        "\n",
        "plt.figure(figsize=(12, 6))\n",
        "plt.plot(data[\"Рік\"], data[\"Середній розмір зарплати в гривнях\"], marker='o', linestyle='-')\n",
        "plt.title('Зарплата в Україні за роками')\n",
        "plt.xlabel('Рік')\n",
        "plt.ylabel('Середній розмір зарплати в гривнях')\n",
        "plt.grid(True)\n",
        "\n",
        "plt.show()\n"
      ],
      "metadata": {
        "id": "8N-COdPbNzbc"
      },
      "execution_count": 7,
      "outputs": []
    },
    {
      "cell_type": "code",
      "source": [
        "#Завдання 14\n",
        "#Видаліть останній рік з таблиці та виведіть оновлену таблицю.\n",
        "import pandas as pd\n",
        "\n",
        "url = \"https://uk.wikipedia.org/wiki/%D0%A1%D0%B5%D1%80%D0%B5%D0%B4%D0%BD%D1%8F_%D0%B7%D0%B0%D1%80%D0%BE%D0%B1%D1%96%D1%82%D0%BD%D0%B0_%D0%BF%D0%BB%D0%B0%D1%82%D0%B0_%D0%B2_%D0%A3%D0%BA%D1%80%D0%B0%D1%97%D0%BD%D1%96\"\n",
        "\n",
        "data = pd.read_html(url, header=0)[2]\n",
        "\n",
        "data = data.drop(data.index[-1])\n",
        "\n",
        "print(data)\n"
      ],
      "metadata": {
        "id": "0dTrATg2Nzkf",
        "colab": {
          "base_uri": "https://localhost:8080/"
        },
        "outputId": "a12e0cfc-28ae-4244-aff4-fa2a75658d72"
      },
      "execution_count": 8,
      "outputs": [
        {
          "output_type": "stream",
          "name": "stdout",
          "text": [
            "      Рік В національній валюті В доларах США  \\\n",
            "0    1992              5832,88▲        28,04▼   \n",
            "1    1993               163533▲        36,03▲   \n",
            "2    1994              1426343▲        44,99▲   \n",
            "3    1995              7304000▲        49,53▲   \n",
            "4    1996               125,23▼        68,45▲   \n",
            "5    1997               143,09▲        76,86▲   \n",
            "6    1998               152,83▲        62,39▼   \n",
            "7    1999               177,39▲        42,95▼   \n",
            "8    2000               231,04▲        42,47▼   \n",
            "9    2001               311,62▲        58,01▲   \n",
            "10   2002               375,98▲        70,59▲   \n",
            "11   2003               462,58▲        86,74▲   \n",
            "12   2004               590,53▲       111,02▲   \n",
            "13   2005               806,14▲       157,30▲   \n",
            "14   2006              1042,88▲       206,51▲   \n",
            "15   2007              1352,75▲       267,87▲   \n",
            "16   2008              1808,92▲       343,43▲   \n",
            "17   2009              1909,25▲       245,05▼   \n",
            "18   2010              2246,75▲       283,12▲   \n",
            "19   2011              2639,17▲       331,24▲   \n",
            "20   2012              3031,92▲       379,42▲   \n",
            "21   2013              3273,82▲       409,59▲   \n",
            "22   2014              3474,75▲       292,32▼   \n",
            "23   2015              4207,33▲       162,60▼   \n",
            "24   2016              5187,33▲       203,02▲   \n",
            "25   2017              7105,42▲       267,16▲   \n",
            "26   2018              8867,33▲       325,99▲   \n",
            "27   2019             10503,75▲       406,40▲   \n",
            "28   2020             11596,60▲       430,21▲   \n",
            "29   2021             14017,80▲       514,41▲   \n",
            "30  2022*             13376,21▼       380,00▼   \n",
            "\n",
            "   Кількість кг хліба[20] на середню зарплату  \\\n",
            "0                                    1015,67▲   \n",
            "1                                     430,42▼   \n",
            "2                                     372,76▼   \n",
            "3                                     201,76▼   \n",
            "4                                     198,62▼   \n",
            "5                                     211,13▲   \n",
            "6                                     177,69▼   \n",
            "7                                     180,68▲   \n",
            "8                                     117,51▼   \n",
            "9                                     153,57▲   \n",
            "10                                    213,84▲   \n",
            "11                                    276,27▲   \n",
            "12                                    276,06▼   \n",
            "13                                    332,05▲   \n",
            "14                                    441,28▲   \n",
            "15                                    498,66▲   \n",
            "16                                    585,00▲   \n",
            "17                                    497,02▼   \n",
            "18                                    527,82▲   \n",
            "19                                    564,37▲   \n",
            "20                                    585,38▲   \n",
            "21                                    625,00▲   \n",
            "22                                    642,39▲   \n",
            "23                                    517,22▼   \n",
            "24                                    441,05▼   \n",
            "25                                    450,35▲   \n",
            "26                                    497,05▲   \n",
            "27                                    528,09▲   \n",
            "28                                    549,08▲   \n",
            "29                                    560,03▲   \n",
            "30                                    409,57▼   \n",
            "\n",
            "   Кількість БігМаків на середню зарплату  \n",
            "0                                       —  \n",
            "1                                       —  \n",
            "2                                       —  \n",
            "3                                       —  \n",
            "4                                       —  \n",
            "5                                  20[21]  \n",
            "6                                    н.д.  \n",
            "7                                 24▲[22]  \n",
            "8                                    н.д.  \n",
            "9                                 50▲[23]  \n",
            "10                                   н.д.  \n",
            "11                                   н.д.  \n",
            "12                                    81▲  \n",
            "13                                   111▲  \n",
            "14                                   123▲  \n",
            "15                                   146▲  \n",
            "16                                   164▲  \n",
            "17                                   136▼  \n",
            "18                                   155▲  \n",
            "19                                   160▲  \n",
            "20                                   202▲  \n",
            "21                                   172▼  \n",
            "22                                   182▲  \n",
            "23                                   124▼  \n",
            "24                                   133▲  \n",
            "25                                   161▲  \n",
            "26                                   177▲  \n",
            "27                                   184▲  \n",
            "28                                   187▲  \n",
            "29                                   216▲  \n",
            "30                                   132▼  \n"
          ]
        }
      ]
    },
    {
      "cell_type": "code",
      "source": [
        "#Завдання 15\n",
        "#Побудуйте графік, що відображає середню зарплату в Україні в розрізі років без останнього року\n",
        "import pandas as pd\n",
        "import matplotlib.pyplot as plt\n",
        "\n",
        "url = \"https://uk.wikipedia.org/wiki/%D0%A1%D0%B5%D1%80%D0%B5%D0%B4%D0%BD%D1%8F_%D0%B7%D0%B0%D1%80%D0%BE%D0%B1%D1%96%D1%82%D0%BD%D0%B0_%D0%BF%D0%BB%D0%B0%D1%82%D0%B0_%D0%B2_%D0%A3%D0%BA%D1%80%D0%B0%D1%97%D0%BD%D1%96\"\n",
        "\n",
        "data = pd.read_html(url, header=0)[2]\n",
        "\n",
        "data = data.drop(data.index[-1])\n",
        "\n",
        "data = data[[\"Рік\", \"Середній розмір зарплати в гривнях\"]]\n",
        "\n",
        "data[\"Середній розмір зарплати в гривнях\"] = data[\"Середній розмір зарплати в гривнях\"].str.replace(\" \", \"\").str.replace(\",\", \".\").astype(float)\n",
        "\n",
        "plt.figure(figsize=(12, 6))\n",
        "plt.plot(data[\"Рік\"], data[\"Середній розмір зарплати в гривнях\"], marker='o', linestyle='-')\n",
        "plt.title('Середня зарплата в Україні (без останнього року)')\n",
        "plt.xlabel('Рік')\n",
        "plt.ylabel('Середній розмір зарплати в гривнях')\n",
        "plt.grid(True)\n",
        "\n",
        "plt.show()\n"
      ],
      "metadata": {
        "id": "EEtaNx9TNztu"
      },
      "execution_count": 10,
      "outputs": []
    },
    {
      "cell_type": "code",
      "source": [
        "#Завдання 16\n",
        "#Обчисліть зарплату за останні два роки і порівняйте її із зарплатою за останні 5 років. Вкажіть, чи є різниця, і в якому напрямку.\n",
        "import pandas as pd\n",
        "\n",
        "\n",
        "url = \"https://uk.wikipedia.org/wiki/%D0%A1%D0%B5%D1%80%D0%B5%D0%B4%D0%BD%D1%8F_%D0%B7%D0%B0%D1%80%D0%BE%D0%B1%D1%96%D1%82%D0%BD%D0%B0_%D0%BF%D0%BB%D0%B0%D1%82%D0%B0_%D0%B2_%D0%A3%D0%BA%D1%80%D0%B0%D1%97%D0%BD%D1%96\"\n",
        "\n",
        "data = pd.read_html(url, header=0)[2]\n",
        "\n",
        "data = data.dropna()\n",
        "\n",
        "data = data[[\"Рік\", \"Середній розмір зарплати в гривнях\"]]\n",
        "\n",
        "data[\"Середній розмір зарплати в гривнях\"] = data[\"Середній розмір зарплати в гривнях\"].str.replace(\" \", \"\").str.replace(\",\", \".\").astype(float)\n",
        "\n",
        "last_5_years_data = data.tail(5)\n",
        "\n",
        "last_2_years_data = data.tail(2)\n",
        "\n",
        "average_salary_last_5_years = last_5_years_data[\"Середній розмір зарплати в гривнях\"].mean()\n",
        "average_salary_last_2_years = last_2_years_data[\"Середній розмір зарплати в гривнях\"].mean()\n",
        "\n",
        "if average_salary_last_2_years > average_salary_last_5_years:\n",
        "    difference_direction = \"зростання\"\n",
        "    difference_value = average_salary_last_2_years - average_salary_last_5_years\n",
        "elif average_salary_last_2_years < average_salary_last_5_years:\n",
        "    difference_direction = \"зменшення\"\n",
        "    difference_value = average_salary_last_5_years - average_salary_last_2_years\n",
        "else:\n",
        "    difference_direction = \"різниця відсутня\"\n",
        "    difference_value = 0\n",
        "\n",
        "print(f\"Середня зарплата за останні 5 років: {average_salary_last_5_years} грн\")\n",
        "print(f\"Середня зарплата за останні 2 роки: {average_salary_last_2_years} грн\")\n",
        "print(f\"Різниця: {difference_value} грн ({difference_direction})\")\n"
      ],
      "metadata": {
        "id": "BbDHC0ulNz2U"
      },
      "execution_count": 11,
      "outputs": []
    }
  ]
}