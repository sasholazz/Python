{
  "nbformat": 4,
  "nbformat_minor": 0,
  "metadata": {
    "colab": {
      "provenance": []
    },
    "kernelspec": {
      "name": "python3",
      "display_name": "Python 3"
    },
    "language_info": {
      "name": "python"
    }
  },
  "cells": [
    {
      "cell_type": "code",
      "source": [
        "pip install surprise"
      ],
      "metadata": {
        "colab": {
          "base_uri": "https://localhost:8080/"
        },
        "id": "n81FFft2iDCO",
        "outputId": "89b8faa4-632e-4c1b-ac17-423d395ea376"
      },
      "execution_count": 5,
      "outputs": [
        {
          "output_type": "stream",
          "name": "stdout",
          "text": [
            "Collecting surprise\n",
            "  Downloading surprise-0.1-py2.py3-none-any.whl (1.8 kB)\n",
            "Collecting scikit-surprise (from surprise)\n",
            "  Downloading scikit-surprise-1.1.3.tar.gz (771 kB)\n",
            "\u001b[2K     \u001b[90m━━━━━━━━━━━━━━━━━━━━━━━━━━━━━━━━━━━━━━━━\u001b[0m \u001b[32m772.0/772.0 kB\u001b[0m \u001b[31m6.4 MB/s\u001b[0m eta \u001b[36m0:00:00\u001b[0m\n",
            "\u001b[?25h  Preparing metadata (setup.py) ... \u001b[?25l\u001b[?25hdone\n",
            "Requirement already satisfied: joblib>=1.0.0 in /usr/local/lib/python3.10/dist-packages (from scikit-surprise->surprise) (1.3.2)\n",
            "Requirement already satisfied: numpy>=1.17.3 in /usr/local/lib/python3.10/dist-packages (from scikit-surprise->surprise) (1.23.5)\n",
            "Requirement already satisfied: scipy>=1.3.2 in /usr/local/lib/python3.10/dist-packages (from scikit-surprise->surprise) (1.11.3)\n",
            "Building wheels for collected packages: scikit-surprise\n",
            "  Building wheel for scikit-surprise (setup.py) ... \u001b[?25l\u001b[?25hdone\n",
            "  Created wheel for scikit-surprise: filename=scikit_surprise-1.1.3-cp310-cp310-linux_x86_64.whl size=3163340 sha256=6ff843acc68b8e9bb12df93cf568fd3d09e02045357ffa1e555afe4d3e324a27\n",
            "  Stored in directory: /root/.cache/pip/wheels/a5/ca/a8/4e28def53797fdc4363ca4af740db15a9c2f1595ebc51fb445\n",
            "Successfully built scikit-surprise\n",
            "Installing collected packages: scikit-surprise, surprise\n",
            "Successfully installed scikit-surprise-1.1.3 surprise-0.1\n"
          ]
        }
      ]
    },
    {
      "cell_type": "code",
      "execution_count": 11,
      "metadata": {
        "id": "QLbtMFnqh3HF"
      },
      "outputs": [],
      "source": [
        "from surprise import Dataset, Reader, SVD, SVDpp, NMF, KNNBasic, KNNWithZScore\n",
        "from surprise.model_selection import cross_validate, train_test_split\n",
        "import matplotlib.pyplot as plt"
      ]
    },
    {
      "cell_type": "code",
      "source": [
        "!pip install mplcyberpunk\n",
        "import mplcyberpunk\n",
        "\n",
        "plt.style.use(\"cyberpunk\")"
      ],
      "metadata": {
        "colab": {
          "base_uri": "https://localhost:8080/"
        },
        "id": "5C15N17PisJg",
        "outputId": "ef7f57f0-6e0c-404c-e880-b9bfc1174b49"
      },
      "execution_count": 7,
      "outputs": [
        {
          "output_type": "stream",
          "name": "stdout",
          "text": [
            "Collecting mplcyberpunk\n",
            "  Downloading mplcyberpunk-0.7.0-py3-none-any.whl (6.3 kB)\n",
            "Requirement already satisfied: matplotlib in /usr/local/lib/python3.10/dist-packages (from mplcyberpunk) (3.7.1)\n",
            "Requirement already satisfied: contourpy>=1.0.1 in /usr/local/lib/python3.10/dist-packages (from matplotlib->mplcyberpunk) (1.1.1)\n",
            "Requirement already satisfied: cycler>=0.10 in /usr/local/lib/python3.10/dist-packages (from matplotlib->mplcyberpunk) (0.12.1)\n",
            "Requirement already satisfied: fonttools>=4.22.0 in /usr/local/lib/python3.10/dist-packages (from matplotlib->mplcyberpunk) (4.43.1)\n",
            "Requirement already satisfied: kiwisolver>=1.0.1 in /usr/local/lib/python3.10/dist-packages (from matplotlib->mplcyberpunk) (1.4.5)\n",
            "Requirement already satisfied: numpy>=1.20 in /usr/local/lib/python3.10/dist-packages (from matplotlib->mplcyberpunk) (1.23.5)\n",
            "Requirement already satisfied: packaging>=20.0 in /usr/local/lib/python3.10/dist-packages (from matplotlib->mplcyberpunk) (23.2)\n",
            "Requirement already satisfied: pillow>=6.2.0 in /usr/local/lib/python3.10/dist-packages (from matplotlib->mplcyberpunk) (9.4.0)\n",
            "Requirement already satisfied: pyparsing>=2.3.1 in /usr/local/lib/python3.10/dist-packages (from matplotlib->mplcyberpunk) (3.1.1)\n",
            "Requirement already satisfied: python-dateutil>=2.7 in /usr/local/lib/python3.10/dist-packages (from matplotlib->mplcyberpunk) (2.8.2)\n",
            "Requirement already satisfied: six>=1.5 in /usr/local/lib/python3.10/dist-packages (from python-dateutil>=2.7->matplotlib->mplcyberpunk) (1.16.0)\n",
            "Installing collected packages: mplcyberpunk\n",
            "Successfully installed mplcyberpunk-0.7.0\n"
          ]
        }
      ]
    },
    {
      "cell_type": "code",
      "source": [
        "data = Dataset.load_builtin('ml-100k')"
      ],
      "metadata": {
        "colab": {
          "base_uri": "https://localhost:8080/"
        },
        "id": "PD2SSKrmjIk9",
        "outputId": "7bd3a27a-20d1-4782-d91e-4c0f38446791"
      },
      "execution_count": 8,
      "outputs": [
        {
          "output_type": "stream",
          "name": "stdout",
          "text": [
            "Dataset ml-100k could not be found. Do you want to download it? [Y/n] Y\n",
            "Trying to download dataset from https://files.grouplens.org/datasets/movielens/ml-100k.zip...\n",
            "Done! Dataset ml-100k has been saved to /root/.surprise_data/ml-100k\n"
          ]
        }
      ]
    },
    {
      "cell_type": "code",
      "source": [
        "df = pd.DataFrame(data.raw_ratings, columns=['user', 'item', 'rating', 'timestamp'])\n",
        "print(df.head())\n"
      ],
      "metadata": {
        "colab": {
          "base_uri": "https://localhost:8080/"
        },
        "id": "es0jok-KjOoN",
        "outputId": "a8d8ed9d-a871-47d5-dfee-0effab3c0440"
      },
      "execution_count": 9,
      "outputs": [
        {
          "output_type": "stream",
          "name": "stdout",
          "text": [
            "  user item  rating  timestamp\n",
            "0  196  242     3.0  881250949\n",
            "1  186  302     3.0  891717742\n",
            "2   22  377     1.0  878887116\n",
            "3  244   51     2.0  880606923\n",
            "4  166  346     1.0  886397596\n"
          ]
        }
      ]
    },
    {
      "cell_type": "code",
      "source": [
        "algo_svd = SVD()\n",
        "algo_svdpp = SVDpp()\n",
        "algo_nmf = NMF()\n",
        "algo_knnbasic = KNNBasic()\n",
        "algo_knnwithzscore = KNNWithZScore()"
      ],
      "metadata": {
        "id": "jsdrV9Rcj0I2"
      },
      "execution_count": 13,
      "outputs": []
    },
    {
      "cell_type": "code",
      "source": [
        "cv_results_svd = cross_validate(algo_svd, data, measures=['RMSE'], cv=5, verbose=True)\n",
        "cv_results_svdpp = cross_validate(algo_svdpp , data, measures=['RMSE'], cv=5, verbose=True)\n",
        "cv_results_nmf = cross_validate(algo_nmf, data, measures=['RMSE'], cv=5, verbose=True)\n",
        "cv_results_knnbasic = cross_validate(algo_knnbasic, data, measures=['RMSE'], cv=5, verbose=True)\n",
        "cv_results_knnwithzscore = cross_validate(algo_knnwithzscore, data, measures=['RMSE'], cv=5, verbose=True)"
      ],
      "metadata": {
        "colab": {
          "base_uri": "https://localhost:8080/"
        },
        "id": "aW9AOnF8j_W3",
        "outputId": "4865cf50-8196-45ee-a339-3140b8fde9bc"
      },
      "execution_count": 16,
      "outputs": [
        {
          "output_type": "stream",
          "name": "stdout",
          "text": [
            "Evaluating RMSE of algorithm SVD on 5 split(s).\n",
            "\n",
            "                  Fold 1  Fold 2  Fold 3  Fold 4  Fold 5  Mean    Std     \n",
            "RMSE (testset)    0.9262  0.9422  0.9309  0.9347  0.9405  0.9349  0.0060  \n",
            "Fit time          1.37    1.32    1.32    1.33    1.28    1.32    0.03    \n",
            "Test time         0.17    0.13    0.13    0.13    0.13    0.14    0.02    \n",
            "Evaluating RMSE of algorithm SVDpp on 5 split(s).\n",
            "\n",
            "                  Fold 1  Fold 2  Fold 3  Fold 4  Fold 5  Mean    Std     \n",
            "RMSE (testset)    0.9183  0.9194  0.9157  0.9197  0.9159  0.9178  0.0017  \n",
            "Fit time          26.76   27.23   28.29   36.05   31.18   29.90   3.44    \n",
            "Test time         5.02    4.13    4.16    5.12    4.31    4.55    0.43    \n",
            "Evaluating RMSE of algorithm NMF on 5 split(s).\n",
            "\n",
            "                  Fold 1  Fold 2  Fold 3  Fold 4  Fold 5  Mean    Std     \n",
            "RMSE (testset)    0.9639  0.9638  0.9690  0.9692  0.9665  0.9665  0.0024  \n",
            "Fit time          2.09    2.18    3.68    2.30    2.39    2.52    0.59    \n",
            "Test time         0.24    0.13    0.17    0.76    0.12    0.29    0.24    \n",
            "Computing the msd similarity matrix...\n",
            "Done computing similarity matrix.\n",
            "Computing the msd similarity matrix...\n",
            "Done computing similarity matrix.\n",
            "Computing the msd similarity matrix...\n",
            "Done computing similarity matrix.\n",
            "Computing the msd similarity matrix...\n",
            "Done computing similarity matrix.\n",
            "Computing the msd similarity matrix...\n",
            "Done computing similarity matrix.\n",
            "Evaluating RMSE of algorithm KNNBasic on 5 split(s).\n",
            "\n",
            "                  Fold 1  Fold 2  Fold 3  Fold 4  Fold 5  Mean    Std     \n",
            "RMSE (testset)    0.9781  0.9845  0.9726  0.9762  0.9842  0.9791  0.0046  \n",
            "Fit time          0.40    0.51    0.34    0.35    0.48    0.42    0.07    \n",
            "Test time         4.24    3.59    3.18    3.59    3.50    3.62    0.34    \n",
            "Computing the msd similarity matrix...\n",
            "Done computing similarity matrix.\n",
            "Computing the msd similarity matrix...\n",
            "Done computing similarity matrix.\n",
            "Computing the msd similarity matrix...\n",
            "Done computing similarity matrix.\n",
            "Computing the msd similarity matrix...\n",
            "Done computing similarity matrix.\n",
            "Computing the msd similarity matrix...\n",
            "Done computing similarity matrix.\n",
            "Evaluating RMSE of algorithm KNNWithZScore on 5 split(s).\n",
            "\n",
            "                  Fold 1  Fold 2  Fold 3  Fold 4  Fold 5  Mean    Std     \n",
            "RMSE (testset)    0.9495  0.9544  0.9562  0.9506  0.9482  0.9518  0.0031  \n",
            "Fit time          0.44    0.44    0.68    0.46    0.44    0.49    0.09    \n",
            "Test time         3.31    4.09    3.37    3.30    4.53    3.72    0.50    \n"
          ]
        }
      ]
    },
    {
      "cell_type": "code",
      "source": [
        "rmse_svd = cv_results_svd['test_rmse'].mean()\n",
        "rmse_svdpp = cv_results_svdpp['test_rmse'].mean()\n",
        "rmse_nmf = cv_results_nmf['test_rmse'].mean()\n",
        "rmse_knnbasic = cv_results_knnbasic['test_rmse'].mean()\n",
        "rmse_knnwithzscore = cv_results_knnwithzscore['test_rmse'].mean()"
      ],
      "metadata": {
        "id": "k4M6WoMemyv0"
      },
      "execution_count": 17,
      "outputs": []
    },
    {
      "cell_type": "code",
      "source": [
        "print(f\"SVD:{rmse_svd}\")\n",
        "print(f\"SVDPP:{rmse_svdpp}\")\n",
        "print(f\"NMF:{rmse_nmf}\")\n",
        "print(f\"KNNBasic:{rmse_knnbasic}\")\n",
        "print(f\"KNNWithZScore:{rmse_knnwithzscore}\")"
      ],
      "metadata": {
        "colab": {
          "base_uri": "https://localhost:8080/"
        },
        "id": "weHEUHgpnF7Q",
        "outputId": "6da7873a-d04d-4d47-8d1d-b8be0430df96"
      },
      "execution_count": 18,
      "outputs": [
        {
          "output_type": "stream",
          "name": "stdout",
          "text": [
            "SVD:0.934890019851877\n",
            "SVDPP:0.9177915120105908\n",
            "NMF:0.9665025252373203\n",
            "KNNBasic:0.9791161311589394\n",
            "KNNWithZScore:0.951792662416819\n"
          ]
        }
      ]
    },
    {
      "cell_type": "code",
      "source": [
        "rmse_values = [rmse_svd, rmse_svdpp, rmse_nmf, rmse_knnbasic, rmse_knnwithzscore]\n",
        "algorithms = ['SVD', 'SVD++', 'NMF', 'KNNBasic', 'KNNWithZScore']\n",
        "\n",
        "# Знайти індекс алгоритму з найменшим RMSE\n",
        "best_algorithm_index = rmse_values.index(min(rmse_values))\n",
        "best_algorithm = algorithms[best_algorithm_index]\n",
        "best_rmse = rmse_values[best_algorithm_index]\n",
        "\n",
        "# Візуалізація результатів\n",
        "plt.figure(figsize=(10, 6))\n",
        "plt.bar(algorithms, rmse_values, color=['blue' if alg != best_algorithm else 'red' for alg in algorithms])\n",
        "plt.title('RMSE for Different Recommendation Algorithms')\n",
        "plt.xlabel('Algorithm')\n",
        "plt.ylabel('RMSE')\n",
        "plt.show()\n",
        "\n",
        "print(f\"Best Algorithm: {best_algorithm} with RMSE: {best_rmse}\")"
      ],
      "metadata": {
        "colab": {
          "base_uri": "https://localhost:8080/",
          "height": 574
        },
        "id": "Uxl8y3Qqnrsp",
        "outputId": "87f3eafb-682e-41fa-f29a-9ec3233a0e3d"
      },
      "execution_count": 24,
      "outputs": [
        {
          "output_type": "display_data",
          "data": {
            "text/plain": [
              "<Figure size 1000x600 with 1 Axes>"
            ],
            "image/png": "[encoded data removed]"
          },
          "metadata": {}
        },
        {
          "output_type": "stream",
          "name": "stdout",
          "text": [
            "Best Algorithm: SVD++ with RMSE: 0.9177915120105908\n"
          ]
        }
      ]
    }
  ]
}