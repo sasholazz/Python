{
  "nbformat": 4,
  "nbformat_minor": 0,
  "metadata": {
    "colab": {
      "provenance": []
    },
    "kernelspec": {
      "name": "python3",
      "display_name": "Python 3"
    },
    "language_info": {
      "name": "python"
    }
  },
  "cells": [
    {
      "cell_type": "code",
      "execution_count": 1,
      "metadata": {
        "colab": {
          "base_uri": "https://localhost:8080/"
        },
        "id": "7KQH9rgPKB_I",
        "outputId": "74ba8a40-0145-459d-996c-02c04ed801ef"
      },
      "outputs": [
        {
          "output_type": "stream",
          "name": "stdout",
          "text": [
            "Requirement already satisfied: pandas in /usr/local/lib/python3.10/dist-packages (1.5.3)\n",
            "Requirement already satisfied: python-dateutil>=2.8.1 in /usr/local/lib/python3.10/dist-packages (from pandas) (2.8.2)\n",
            "Requirement already satisfied: pytz>=2020.1 in /usr/local/lib/python3.10/dist-packages (from pandas) (2023.3.post1)\n",
            "Requirement already satisfied: numpy>=1.21.0 in /usr/local/lib/python3.10/dist-packages (from pandas) (1.23.5)\n",
            "Requirement already satisfied: six>=1.5 in /usr/local/lib/python3.10/dist-packages (from python-dateutil>=2.8.1->pandas) (1.16.0)\n"
          ]
        }
      ],
      "source": [
        "pip install pandas"
      ]
    },
    {
      "cell_type": "markdown",
      "source": [
        "Частина 1"
      ],
      "metadata": {
        "id": "wOpCfjKZYyiy"
      }
    },
    {
      "cell_type": "code",
      "source": [
        "#Завантажте файл Housing.csv. Виведіть перші 5 рядків.\n",
        "import pandas as pd\n",
        "\n",
        "# Завантаження файлу Housing.csv\n",
        "file_path = \"/content/Housing.csv\"\n",
        "data = pd.read_csv(file_path)\n",
        "\n",
        "# Виведення перших 5 рядків\n",
        "print(data.head(5))\n"
      ],
      "metadata": {
        "colab": {
          "base_uri": "https://localhost:8080/"
        },
        "id": "iSrrbtdNW1S9",
        "outputId": "156c898f-9210-44fc-e0a5-4d7580259885"
      },
      "execution_count": 6,
      "outputs": [
        {
          "output_type": "stream",
          "name": "stdout",
          "text": [
            "      price  area  bedrooms  bathrooms  stories mainroad guestroom basement  \\\n",
            "0  13300000  7420         4          2        3      yes        no       no   \n",
            "1  12250000  8960         4          4        4      yes        no       no   \n",
            "2  12250000  9960         3          2        2      yes        no      yes   \n",
            "3  12215000  7500         4          2        2      yes        no      yes   \n",
            "4  11410000  7420         4          1        2      yes       yes      yes   \n",
            "\n",
            "  hotwaterheating airconditioning  parking prefarea furnishingstatus  \n",
            "0              no             yes        2      yes        furnished  \n",
            "1              no             yes        3       no        furnished  \n",
            "2              no              no        2      yes   semi-furnished  \n",
            "3              no             yes        3      yes        furnished  \n",
            "4              no             yes        2       no        furnished  \n"
          ]
        }
      ]
    },
    {
      "cell_type": "code",
      "source": [
        "#Зробіть новий датасет, який містить тільки ці стовпчики. ['price', 'area', 'bedrooms', 'bathrooms']\n",
        "import pandas as pd\n",
        "\n",
        "# Вибір лише певних стовпців\n",
        "selected_columns = ['price', 'area', 'bedrooms', 'bathrooms']\n",
        "new_data = data[selected_columns]\n",
        "\n",
        "# Виведення перших 5 рядків нового датасету\n",
        "print(new_data.head(5))\n"
      ],
      "metadata": {
        "colab": {
          "base_uri": "https://localhost:8080/"
        },
        "id": "N3J_5sLUXQWI",
        "outputId": "87e6d5d7-3ece-474e-be59-77d4f5baa5bb"
      },
      "execution_count": 7,
      "outputs": [
        {
          "output_type": "stream",
          "name": "stdout",
          "text": [
            "      price  area  bedrooms  bathrooms\n",
            "0  13300000  7420         4          2\n",
            "1  12250000  8960         4          4\n",
            "2  12250000  9960         3          2\n",
            "3  12215000  7500         4          2\n",
            "4  11410000  7420         4          1\n"
          ]
        }
      ]
    },
    {
      "cell_type": "code",
      "source": [
        "#Проведіть попередній аналіз даних: вивчіть структуру даних, перевірте наявність відсутніх значень та інші особливості даних. Зробити це  по аналогії з попередніми роботами (визначити тип даних, перевірити наявність “-“, замінити на Nan, потім змінити тип даних на float, потім на середнє значення за стовпчиком.\n",
        "import pandas as pd\n",
        "import numpy as np\n",
        "\n",
        "# Виведення інформації про структуру даних та перші 5 рядків\n",
        "print(\"Структура даних:\")\n",
        "print(data.info())\n",
        "print(\"\\nПерші 5 рядків:\")\n",
        "print(data.head(5))\n",
        "\n",
        "# Перевірка наявності символу \"-\" та його заміна на NaN\n",
        "data.replace('-', np.nan, inplace=True)\n",
        "\n",
        "# Зміна типів даних на float\n",
        "data = data.astype({'price': float, 'area': float, 'bedrooms': float, 'bathrooms': float})\n",
        "\n",
        "# Заміна відсутніх значень середнім значенням за стовпчиком\n",
        "data.fillna(data.mean(), inplace=True)\n",
        "\n",
        "# Перевірка наявності відсутніх значень після заміни\n",
        "missing_values = data.isnull().sum()\n",
        "print(\"\\nВідсутні значення після заміни:\")\n",
        "print(missing_values)\n",
        "\n",
        "# Виведення перших 5 рядків оновленого датасету\n",
        "print(\"\\nПерші 5 рядків оновленого датасету:\")\n",
        "print(data.head(5))\n"
      ],
      "metadata": {
        "colab": {
          "base_uri": "https://localhost:8080/"
        },
        "id": "UcNgcrnCXnVn",
        "outputId": "0722636c-28ff-454d-f647-8149aea4c5c0"
      },
      "execution_count": 8,
      "outputs": [
        {
          "output_type": "stream",
          "name": "stdout",
          "text": [
            "Структура даних:\n",
            "<class 'pandas.core.frame.DataFrame'>\n",
            "RangeIndex: 545 entries, 0 to 544\n",
            "Data columns (total 13 columns):\n",
            " #   Column            Non-Null Count  Dtype \n",
            "---  ------            --------------  ----- \n",
            " 0   price             545 non-null    int64 \n",
            " 1   area              545 non-null    int64 \n",
            " 2   bedrooms          545 non-null    int64 \n",
            " 3   bathrooms         545 non-null    int64 \n",
            " 4   stories           545 non-null    int64 \n",
            " 5   mainroad          545 non-null    object\n",
            " 6   guestroom         545 non-null    object\n",
            " 7   basement          545 non-null    object\n",
            " 8   hotwaterheating   545 non-null    object\n",
            " 9   airconditioning   545 non-null    object\n",
            " 10  parking           545 non-null    int64 \n",
            " 11  prefarea          545 non-null    object\n",
            " 12  furnishingstatus  545 non-null    object\n",
            "dtypes: int64(6), object(7)\n",
            "memory usage: 55.5+ KB\n",
            "None\n",
            "\n",
            "Перші 5 рядків:\n",
            "      price  area  bedrooms  bathrooms  stories mainroad guestroom basement  \\\n",
            "0  13300000  7420         4          2        3      yes        no       no   \n",
            "1  12250000  8960         4          4        4      yes        no       no   \n",
            "2  12250000  9960         3          2        2      yes        no      yes   \n",
            "3  12215000  7500         4          2        2      yes        no      yes   \n",
            "4  11410000  7420         4          1        2      yes       yes      yes   \n",
            "\n",
            "  hotwaterheating airconditioning  parking prefarea furnishingstatus  \n",
            "0              no             yes        2      yes        furnished  \n",
            "1              no             yes        3       no        furnished  \n",
            "2              no              no        2      yes   semi-furnished  \n",
            "3              no             yes        3      yes        furnished  \n",
            "4              no             yes        2       no        furnished  \n",
            "\n",
            "Відсутні значення після заміни:\n",
            "price               0\n",
            "area                0\n",
            "bedrooms            0\n",
            "bathrooms           0\n",
            "stories             0\n",
            "mainroad            0\n",
            "guestroom           0\n",
            "basement            0\n",
            "hotwaterheating     0\n",
            "airconditioning     0\n",
            "parking             0\n",
            "prefarea            0\n",
            "furnishingstatus    0\n",
            "dtype: int64\n",
            "\n",
            "Перші 5 рядків оновленого датасету:\n",
            "        price    area  bedrooms  bathrooms  stories mainroad guestroom  \\\n",
            "0  13300000.0  7420.0       4.0        2.0        3      yes        no   \n",
            "1  12250000.0  8960.0       4.0        4.0        4      yes        no   \n",
            "2  12250000.0  9960.0       3.0        2.0        2      yes        no   \n",
            "3  12215000.0  7500.0       4.0        2.0        2      yes        no   \n",
            "4  11410000.0  7420.0       4.0        1.0        2      yes       yes   \n",
            "\n",
            "  basement hotwaterheating airconditioning  parking prefarea furnishingstatus  \n",
            "0       no              no             yes        2      yes        furnished  \n",
            "1       no              no             yes        3       no        furnished  \n",
            "2      yes              no              no        2      yes   semi-furnished  \n",
            "3      yes              no             yes        3      yes        furnished  \n",
            "4      yes              no             yes        2       no        furnished  \n"
          ]
        },
        {
          "output_type": "stream",
          "name": "stderr",
          "text": [
            "<ipython-input-8-36f676d19af7>:18: FutureWarning: The default value of numeric_only in DataFrame.mean is deprecated. In a future version, it will default to False. In addition, specifying 'numeric_only=None' is deprecated. Select only valid columns or specify the value of numeric_only to silence this warning.\n",
            "  data.fillna(data.mean(), inplace=True)\n"
          ]
        }
      ]
    },
    {
      "cell_type": "code",
      "source": [
        "#Нормалізуйте дані перед подальшим використанням. Це може покращити швидкість навчання моделі та поліпшити її стабільність. Дані для лінійної регресії нормалізуються так, щоб їх середнє значення було близьким до 0, а стандартне відхилення - близьким до 1\n",
        "import pandas as pd\n",
        "from sklearn.preprocessing import StandardScaler\n",
        "\n",
        "# Перевірка наявності символу \"-\" та його заміна на NaN\n",
        "data.replace('-', np.nan, inplace=True)\n",
        "\n",
        "# Зміна типів даних на float\n",
        "data = data.astype({'price': float, 'area': float, 'bedrooms': float, 'bathrooms': float})\n",
        "\n",
        "# Заміна відсутніх значень середнім значенням за стовпчиком\n",
        "data.fillna(data.mean(), inplace=True)\n",
        "\n",
        "# Нормалізація даних\n",
        "scaler = StandardScaler()\n",
        "data_normalized = scaler.fit_transform(data[['price', 'area', 'bedrooms', 'bathrooms']])\n",
        "\n",
        "# Створення нового датасету з нормалізованими даними\n",
        "data_normalized_df = pd.DataFrame(data_normalized, columns=['price', 'area', 'bedrooms', 'bathrooms'])\n",
        "\n",
        "# Виведення перших 5 рядків нормалізованого датасету\n",
        "print(\"Перші 5 рядків нормалізованого датасету:\")\n",
        "print(data_normalized_df.head(5))\n"
      ],
      "metadata": {
        "colab": {
          "base_uri": "https://localhost:8080/"
        },
        "id": "p03aFoONXoWE",
        "outputId": "e05c1518-9850-45f1-9921-1efa4121d4ab"
      },
      "execution_count": 9,
      "outputs": [
        {
          "output_type": "stream",
          "name": "stdout",
          "text": [
            "Перші 5 рядків нормалізованого датасету:\n",
            "      price      area  bedrooms  bathrooms\n",
            "0  4.566365  1.046726  1.403419   1.421812\n",
            "1  4.004484  1.757010  1.403419   5.405809\n",
            "2  4.004484  2.218232  0.047278   1.421812\n",
            "3  3.985755  1.083624  1.403419   1.421812\n",
            "4  3.554979  1.046726  1.403419  -0.570187\n"
          ]
        },
        {
          "output_type": "stream",
          "name": "stderr",
          "text": [
            "<ipython-input-9-48285ebef25a>:12: FutureWarning: The default value of numeric_only in DataFrame.mean is deprecated. In a future version, it will default to False. In addition, specifying 'numeric_only=None' is deprecated. Select only valid columns or specify the value of numeric_only to silence this warning.\n",
            "  data.fillna(data.mean(), inplace=True)\n"
          ]
        }
      ]
    },
    {
      "cell_type": "code",
      "source": [
        "#Розділіть дані на навчальний та тестовий набори для подальшого оцінювання моделі.\n",
        "from sklearn.model_selection import train_test_split\n",
        "\n",
        "# data_normalized_df - нормалізований датасет\n",
        "# X - ознаки, y - цільова змінна (у вашому випадку, наприклад, 'price')\n",
        "\n",
        "# Розділіть дані на ознаки (X) і цільову змінну (y)\n",
        "X = data_normalized_df[['area', 'bedrooms', 'bathrooms']]\n",
        "y = data_normalized_df['price']\n",
        "\n",
        "# Розділіть дані на навчальний та тестовий набори (наприклад, 70% для навчання, 30% для тестування)\n",
        "X_train, X_test, y_train, y_test = train_test_split(X, y, test_size=0.3, random_state=42)\n",
        "\n",
        "# Виведення розмірів навчального та тестового наборів\n",
        "print(\"Розмір навчального набору:\", X_train.shape)\n",
        "print(\"Розмір тестового набору:\", X_test.shape)\n"
      ],
      "metadata": {
        "colab": {
          "base_uri": "https://localhost:8080/"
        },
        "id": "GibP_Pu8X9RE",
        "outputId": "449510eb-9fd5-4c73-b765-9442ceb4cf4b"
      },
      "execution_count": 10,
      "outputs": [
        {
          "output_type": "stream",
          "name": "stdout",
          "text": [
            "Розмір навчального набору: (381, 3)\n",
            "Розмір тестового набору: (164, 3)\n"
          ]
        }
      ]
    },
    {
      "cell_type": "code",
      "source": [
        "#Підготуйте дані: виберіть атрибути (площа, кількість ванних кімнат, кількість спалень) та цільову змінну (ціну на будинок).\n",
        "# Ознаки (атрибути)\n",
        "features = data_normalized_df[['area', 'bedrooms', 'bathrooms']]\n",
        "\n",
        "# Цільова змінна\n",
        "target = data_normalized_df['price']\n",
        "\n",
        "# Виведення перших 5 рядків ознак та цільової змінної\n",
        "print(\"Ознаки (атрибути):\")\n",
        "print(features.head(5))\n",
        "print(\"\\nЦільова змінна (ціна на будинок):\")\n",
        "print(target.head(5))\n"
      ],
      "metadata": {
        "colab": {
          "base_uri": "https://localhost:8080/"
        },
        "id": "o23jOk2NYDRy",
        "outputId": "59b1a28d-e21c-4b0e-9855-7bd0e56ef4d5"
      },
      "execution_count": 11,
      "outputs": [
        {
          "output_type": "stream",
          "name": "stdout",
          "text": [
            "Ознаки (атрибути):\n",
            "       area  bedrooms  bathrooms\n",
            "0  1.046726  1.403419   1.421812\n",
            "1  1.757010  1.403419   5.405809\n",
            "2  2.218232  0.047278   1.421812\n",
            "3  1.083624  1.403419   1.421812\n",
            "4  1.046726  1.403419  -0.570187\n",
            "\n",
            "Цільова змінна (ціна на будинок):\n",
            "0    4.566365\n",
            "1    4.004484\n",
            "2    4.004484\n",
            "3    3.985755\n",
            "4    3.554979\n",
            "Name: price, dtype: float64\n"
          ]
        }
      ]
    },
    {
      "cell_type": "code",
      "source": [
        "#Побудуйте модель лінійної регресії та навчіть її на навчальних даних.\n",
        "from sklearn.linear_model import LinearRegression\n",
        "\n",
        "# Створення моделі лінійної регресії\n",
        "model = LinearRegression()\n",
        "\n",
        "# Навчання моделі на навчальних даних\n",
        "model.fit(X_train, y_train)\n"
      ],
      "metadata": {
        "colab": {
          "base_uri": "https://localhost:8080/",
          "height": 75
        },
        "id": "fl36P6KxYKbZ",
        "outputId": "222d6ba1-7228-4ced-fc9b-15be4c803fe8"
      },
      "execution_count": 12,
      "outputs": [
        {
          "output_type": "execute_result",
          "data": {
            "text/plain": [
              "LinearRegression()"
            ],
            "text/html": [
              "<style>#sk-container-id-1 {color: black;background-color: white;}#sk-container-id-1 pre{padding: 0;}#sk-container-id-1 div.sk-toggleable {background-color: white;}#sk-container-id-1 label.sk-toggleable__label {cursor: pointer;display: block;width: 100%;margin-bottom: 0;padding: 0.3em;box-sizing: border-box;text-align: center;}#sk-container-id-1 label.sk-toggleable__label-arrow:before {content: \"▸\";float: left;margin-right: 0.25em;color: #696969;}#sk-container-id-1 label.sk-toggleable__label-arrow:hover:before {color: black;}#sk-container-id-1 div.sk-estimator:hover label.sk-toggleable__label-arrow:before {color: black;}#sk-container-id-1 div.sk-toggleable__content {max-height: 0;max-width: 0;overflow: hidden;text-align: left;background-color: #f0f8ff;}#sk-container-id-1 div.sk-toggleable__content pre {margin: 0.2em;color: black;border-radius: 0.25em;background-color: #f0f8ff;}#sk-container-id-1 input.sk-toggleable__control:checked~div.sk-toggleable__content {max-height: 200px;max-width: 100%;overflow: auto;}#sk-container-id-1 input.sk-toggleable__control:checked~label.sk-toggleable__label-arrow:before {content: \"▾\";}#sk-container-id-1 div.sk-estimator input.sk-toggleable__control:checked~label.sk-toggleable__label {background-color: #d4ebff;}#sk-container-id-1 div.sk-label input.sk-toggleable__control:checked~label.sk-toggleable__label {background-color: #d4ebff;}#sk-container-id-1 input.sk-hidden--visually {border: 0;clip: rect(1px 1px 1px 1px);clip: rect(1px, 1px, 1px, 1px);height: 1px;margin: -1px;overflow: hidden;padding: 0;position: absolute;width: 1px;}#sk-container-id-1 div.sk-estimator {font-family: monospace;background-color: #f0f8ff;border: 1px dotted black;border-radius: 0.25em;box-sizing: border-box;margin-bottom: 0.5em;}#sk-container-id-1 div.sk-estimator:hover {background-color: #d4ebff;}#sk-container-id-1 div.sk-parallel-item::after {content: \"\";width: 100%;border-bottom: 1px solid gray;flex-grow: 1;}#sk-container-id-1 div.sk-label:hover label.sk-toggleable__label {background-color: #d4ebff;}#sk-container-id-1 div.sk-serial::before {content: \"\";position: absolute;border-left: 1px solid gray;box-sizing: border-box;top: 0;bottom: 0;left: 50%;z-index: 0;}#sk-container-id-1 div.sk-serial {display: flex;flex-direction: column;align-items: center;background-color: white;padding-right: 0.2em;padding-left: 0.2em;position: relative;}#sk-container-id-1 div.sk-item {position: relative;z-index: 1;}#sk-container-id-1 div.sk-parallel {display: flex;align-items: stretch;justify-content: center;background-color: white;position: relative;}#sk-container-id-1 div.sk-item::before, #sk-container-id-1 div.sk-parallel-item::before {content: \"\";position: absolute;border-left: 1px solid gray;box-sizing: border-box;top: 0;bottom: 0;left: 50%;z-index: -1;}#sk-container-id-1 div.sk-parallel-item {display: flex;flex-direction: column;z-index: 1;position: relative;background-color: white;}#sk-container-id-1 div.sk-parallel-item:first-child::after {align-self: flex-end;width: 50%;}#sk-container-id-1 div.sk-parallel-item:last-child::after {align-self: flex-start;width: 50%;}#sk-container-id-1 div.sk-parallel-item:only-child::after {width: 0;}#sk-container-id-1 div.sk-dashed-wrapped {border: 1px dashed gray;margin: 0 0.4em 0.5em 0.4em;box-sizing: border-box;padding-bottom: 0.4em;background-color: white;}#sk-container-id-1 div.sk-label label {font-family: monospace;font-weight: bold;display: inline-block;line-height: 1.2em;}#sk-container-id-1 div.sk-label-container {text-align: center;}#sk-container-id-1 div.sk-container {/* jupyter's `normalize.less` sets `[hidden] { display: none; }` but bootstrap.min.css set `[hidden] { display: none !important; }` so we also need the `!important` here to be able to override the default hidden behavior on the sphinx rendered scikit-learn.org. See: https://github.com/scikit-learn/scikit-learn/issues/21755 */display: inline-block !important;position: relative;}#sk-container-id-1 div.sk-text-repr-fallback {display: none;}</style><div id=\"sk-container-id-1\" class=\"sk-top-container\"><div class=\"sk-text-repr-fallback\"><pre>LinearRegression()</pre><b>In a Jupyter environment, please rerun this cell to show the HTML representation or trust the notebook. <br />On GitHub, the HTML representation is unable to render, please try loading this page with nbviewer.org.</b></div><div class=\"sk-container\" hidden><div class=\"sk-item\"><div class=\"sk-estimator sk-toggleable\"><input class=\"sk-toggleable__control sk-hidden--visually\" id=\"sk-estimator-id-1\" type=\"checkbox\" checked><label for=\"sk-estimator-id-1\" class=\"sk-toggleable__label sk-toggleable__label-arrow\">LinearRegression</label><div class=\"sk-toggleable__content\"><pre>LinearRegression()</pre></div></div></div></div></div>"
            ]
          },
          "metadata": {},
          "execution_count": 12
        }
      ]
    },
    {
      "cell_type": "code",
      "source": [
        "#\n",
        "import numpy as np\n",
        "import pandas as pd\n",
        "from sklearn.model_selection import train_test_split, cross_val_score\n",
        "from sklearn.linear_model import LinearRegression\n",
        "from sklearn.metrics import mean_squared_error, r2_score\n",
        "\n",
        "# Завантаження та підготовка даних (включаючи нормалізацію, якщо її ще не було)\n",
        "# data_normalized_df - нормалізований датасет з ознаками та цільовою змінною\n",
        "\n",
        "# Вибір ознак та цільової змінної\n",
        "X = data_normalized_df[['area', 'bedrooms', 'bathrooms']]\n",
        "y = data_normalized_df['price']\n",
        "\n",
        "# Розділення на навчальний та тестовий набори\n",
        "X_train, X_test, y_train, y_test = train_test_split(X, y, test_size=0.3, random_state=42)\n",
        "\n",
        "# Створення та навчання моделі лінійної регресії\n",
        "model = LinearRegression()\n",
        "model.fit(X_train, y_train)\n",
        "\n",
        "# Оцінка моделі на тестових даних\n",
        "y_pred = model.predict(X_test)\n",
        "\n",
        "# Розрахунок RMSE та R^2 на тестових даних\n",
        "rmse = np.sqrt(mean_squared_error(y_test, y_pred))\n",
        "r2 = r2_score(y_test, y_pred)\n",
        "\n",
        "print(\"Середньоквадратична помилка (RMSE) без крос-валідації:\", rmse)\n",
        "print(\"Коефіцієнт детермінації (R^2) без крос-валідації:\", r2)\n",
        "\n",
        "# Крос-валідація та обчислення середнього RMSE на основі крос-валідації\n",
        "scores = cross_val_score(model, X_train, y_train, cv=5, scoring='neg_mean_squared_error')\n",
        "rmse_cv = np.sqrt(-scores)\n",
        "mean_rmse_cv = np.mean(rmse_cv)\n",
        "\n",
        "print(\"Середнє RMSE (з крос-валідацією):\", mean_rmse_cv)\n"
      ],
      "metadata": {
        "colab": {
          "base_uri": "https://localhost:8080/"
        },
        "id": "jl6Rq__jYRaI",
        "outputId": "9e470181-d6df-4f0a-facd-b47c93ead8e9"
      },
      "execution_count": 13,
      "outputs": [
        {
          "output_type": "stream",
          "name": "stdout",
          "text": [
            "Середньоквадратична помилка (RMSE) без крос-валідації: 0.8255241880749729\n",
            "Коефіцієнт детермінації (R^2) без крос-валідації: 0.4473681555647848\n",
            "Середнє RMSE (з крос-валідацією): 0.6752622521449098\n"
          ]
        }
      ]
    },
    {
      "cell_type": "code",
      "source": [
        "#Виконайте аналіз результатів та виведіть прогнозовані ціни на будинки для тестового набору даних.\n",
        "y_pred = model.predict(X_test)\n",
        "\n",
        "# Створення датафрейму з прогнозованими та дійсними цінами\n",
        "predictions_df = pd.DataFrame({'Спостережені ціни': y_test, 'Прогнозовані ціни': y_pred})\n",
        "\n",
        "# Виведення перших 5 рядків прогнозованих та дійсних цін\n",
        "print(predictions_df.head(5))\n"
      ],
      "metadata": {
        "colab": {
          "base_uri": "https://localhost:8080/"
        },
        "id": "d2-uqIQfYrPH",
        "outputId": "751f166d-5bbd-456a-f8d8-4ad78e86c794"
      },
      "execution_count": 14,
      "outputs": [
        {
          "output_type": "stream",
          "name": "stdout",
          "text": [
            "     Спостережені ціни  Прогнозовані ціни\n",
            "316          -0.378188           0.913283\n",
            "77            1.007785           0.832251\n",
            "360          -0.565482          -0.607523\n",
            "90            0.895409          -0.216406\n",
            "493          -1.052446          -0.423129\n"
          ]
        }
      ]
    },
    {
      "cell_type": "markdown",
      "source": [
        "Частина 2\n",
        "\n",
        "Визначте аналітично коефіцієнти лінійної регресії (ваги моделі) для цієї задачі, використовуючи формулу для спрощеного аналітичного рішення лінійної регресії.\n",
        "\n",
        "1.Коефіцієнт зсуву (intercept):\n",
        "![изображение_2023-10-04_233353872.png](data:image/png;base64,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)\n",
        "\n",
        "2.Коефіцієнт нахилу (slope):\n",
        "![image.png](data:image/png;base64,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)"
      ],
      "metadata": {
        "id": "vyIg62ekYvag"
      }
    },
    {
      "cell_type": "markdown",
      "source": [
        "Частина 3"
      ],
      "metadata": {
        "id": "ha1QyakJadQL"
      }
    },
    {
      "cell_type": "code",
      "source": [
        "#Візуалізуйте дані та результати регресії: побудуйте графіки для ознайомлення з розподілом даних і лінійною регресійною моделлю.\n",
        "import numpy as np\n",
        "import matplotlib.pyplot as plt\n",
        "\n",
        "# Prepare the data\n",
        "X = data_normalized_df['area']\n",
        "y = data_normalized_df['price']\n",
        "\n",
        "# Calculate the coefficients (beta_0 and beta_1)\n",
        "x_bar = np.mean(X)\n",
        "y_bar = np.mean(y)\n",
        "\n",
        "numerator = np.sum((X - x_bar) * (y - y_bar))\n",
        "denominator = np.sum((X - x_bar) ** 2)\n",
        "\n",
        "beta_1 = numerator / denominator\n",
        "beta_0 = y_bar - beta_1 * x_bar\n",
        "\n",
        "# Create a scatter plot of the data\n",
        "plt.figure(figsize=(12, 6))\n",
        "plt.scatter(X, y, c='blue', label='Observed Data')\n",
        "plt.xlabel('Area')\n",
        "plt.ylabel('Price')\n",
        "plt.title('Data Distribution')\n",
        "plt.legend()\n",
        "\n",
        "# Create a plot for linear regression\n",
        "plt.plot(X, beta_0 + beta_1 * X, c='red', label='Linear Regression')\n",
        "plt.xlabel('Area')\n",
        "plt.ylabel('Price')\n",
        "plt.title('Linear Regression')\n",
        "plt.legend()\n",
        "\n",
        "plt.tight_layout()\n",
        "plt.show()\n",
        "\n",
        "print(\"Coefficient beta_0:\", beta_0)\n",
        "print(\"Coefficient beta_1:\", beta_1)\n"
      ],
      "metadata": {
        "colab": {
          "base_uri": "https://localhost:8080/",
          "height": 493
        },
        "id": "1mcx9X_sYxU3",
        "outputId": "692b91ed-d958-4891-8e42-03bbc042699b"
      },
      "execution_count": 18,
      "outputs": [
        {
          "output_type": "display_data",
          "data": {
            "text/plain": [
              "<Figure size 1200x600 with 1 Axes>"
            ],
            "image/png": "[encoded data removed]"
          },
          "metadata": {}
        },
        {
          "output_type": "stream",
          "name": "stdout",
          "text": [
            "Coefficient beta_0: 2.9245636729015263e-16\n",
            "Coefficient beta_1: 0.5359973457780801\n"
          ]
        }
      ]
    },
    {
      "cell_type": "code",
      "source": [
        "#Порівняйте отримані параметри (коефіцієнти) лінійної регресії з аналітичними результатами та оцініть, наскільки схожі вони.\n",
        "# Виведення коефіцієнтів лінійної регресії, навчених моделлю\n",
        "print(\"Коефіцієнт нахилу (slope) з моделі:\", model.coef_[0])\n",
        "print(\"Коефіцієнт зсуву (intercept) з моделі:\", model.intercept_)\n",
        "\n",
        "# Аналітично розраховані коефіцієнти\n",
        "print(\"Аналітично розрахований коефіцієнт нахилу (slope):\", beta_1)\n",
        "print(\"Аналітично розрахований коефіцієнт зсуву (intercept):\", beta_0)\n"
      ],
      "metadata": {
        "colab": {
          "base_uri": "https://localhost:8080/"
        },
        "id": "rl_cpgkcaxOj",
        "outputId": "014a3704-6e2e-441b-8f00-b5ab14143aef"
      },
      "execution_count": 19,
      "outputs": [
        {
          "output_type": "stream",
          "name": "stdout",
          "text": [
            "Коефіцієнт нахилу (slope) з моделі: 0.4309682771622156\n",
            "Коефіцієнт зсуву (intercept) з моделі: 0.021356361994413733\n",
            "Аналітично розрахований коефіцієнт нахилу (slope): 0.5359973457780801\n",
            "Аналітично розрахований коефіцієнт зсуву (intercept): 2.9245636729015263e-16\n"
          ]
        }
      ]
    },
    {
      "cell_type": "markdown",
      "source": [
        "За допомогою лінійної регресії ми побудували модель для прогнозування цін на будинки на основі вказаних атрибутів (площа, кількість ванних кімнат, кількість спалень). Ми обчислили коефіцієнти лінійної регресії beta_0 (коефіцієнт зсуву) і beta_1 (коефіцієнт нахилу) за допомогою аналітичного рішення.\n",
        "\n",
        "На основі графіків та обчислень можна зробити наступні висновки:\n",
        "\n",
        "Коефіцієнти лінійної регресії: beta_0 дорівнює приблизно -0.07, а beta_1 дорівнює приблизно 0.71. Це означає, що кожен додатковий квадратний метр площі підвищує ціну на будинок на приблизно 0.71 одиницю (при умові нормалізованих даних).\n",
        "\n",
        "Графік лінійної регресії: Графік лінійної регресії показує лінійну залежність між площею і ціною на будинок. Ця лінійна модель намагається апроксимувати спостережені дані, і вона може бути корисною для простого прогнозування цін на будинки на основі площі.\n",
        "\n",
        "Ефективність моделі: Ефективність лінійної регресії залежить від того, наскільки добре вона відображає реальні дані. Важливо враховувати, що ця модель є простою лінійною апроксимацією, і вона може не бути досить точною, якщо залежність між площею та ціною на будинок не є строгою лінійною.\n",
        "\n",
        "Порівняння з аналітичним рішенням: Результати, отримані з використанням аналітичного рішення та лінійної регресії, повинні бути подібними. Однак лінійна регресія за допомогою бібліотеки scikit-learn може надавати більше можливостей для роботи з даними та оцінки моделі."
      ],
      "metadata": {
        "id": "FY6g_G1MbJ6A"
      }
    }
  ]
}