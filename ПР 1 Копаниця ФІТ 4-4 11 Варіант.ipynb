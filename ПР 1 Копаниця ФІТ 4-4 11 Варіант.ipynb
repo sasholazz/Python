{
  "nbformat": 4,
  "nbformat_minor": 0,
  "metadata": {
    "colab": {
      "provenance": []
    },
    "kernelspec": {
      "name": "python3",
      "display_name": "Python 3"
    },
    "language_info": {
      "name": "python"
    }
  },
  "cells": [
    {
      "cell_type": "code",
      "execution_count": 1,
      "metadata": {
        "colab": {
          "base_uri": "https://localhost:8080/"
        },
        "id": "cfzd0_CEX8a9",
        "outputId": "beee5698-19f4-40a8-a7a7-e4b757e77e6e"
      },
      "outputs": [
        {
          "output_type": "stream",
          "name": "stdout",
          "text": [
            "[ 3  8 13 18 23 28 33 38 43 48]\n"
          ]
        }
      ],
      "source": [
        "#Завдання 1\n",
        "#Створіть одновимірний масив (вектор) зі збільшувальною арифметичною послідовністю, де кожне наступне число більше попереднього на 5, починаючи з 3, та виведіть його значення.\n",
        "import numpy as np\n",
        "start_value = 3\n",
        "num_elements = 10\n",
        "sequence = np.arange(start_value, start_value + num_elements * 5, 5)\n",
        "print(sequence)\n"
      ]
    },
    {
      "cell_type": "code",
      "source": [
        "#Завдання 2\n",
        "#Створіть двовимірний масив (матрицю) розміром 3x3, заповніть його добутками кожного числа та його попереднього, починаючи з 1, та виведіть його значення.\n",
        "import numpy as np\n",
        "n = 3\n",
        "matrix = np.zeros((n, n))\n",
        "current_value = 1\n",
        "for i in range(n):\n",
        "    for j in range(n):\n",
        "        matrix[i][j] = current_value\n",
        "        current_value *= (current_value + 1)\n",
        "print(matrix)\n"
      ],
      "metadata": {
        "colab": {
          "base_uri": "https://localhost:8080/"
        },
        "id": "e7Ga1I-YX99n",
        "outputId": "b7c88a7d-2fa3-4aaf-ff7c-ebaad0641815"
      },
      "execution_count": 2,
      "outputs": [
        {
          "output_type": "stream",
          "name": "stdout",
          "text": [
            "[[1.00000000e+00 2.00000000e+00 6.00000000e+00]\n",
            " [4.20000000e+01 1.80600000e+03 3.26344200e+06]\n",
            " [1.06500570e+13 1.13423713e+26 1.28649387e+52]]\n"
          ]
        }
      ]
    },
    {
      "cell_type": "code",
      "source": [
        "#Завдання 3\n",
        "#Створіть масив розміром 8x8, заповніть його випадковими натуральними числами від 1 до 100 та знайдіть середнє арифметичне його елементів.\n",
        "import numpy as np\n",
        "n = 8\n",
        "matrix = np.random.randint(1, 101, size=(n, n))\n",
        "print(\"Матриця:\")\n",
        "print(matrix)\n",
        "average = np.mean(matrix)\n",
        "print(f\"Середнє арифметичне елементів матриці: {average}\")\n"
      ],
      "metadata": {
        "colab": {
          "base_uri": "https://localhost:8080/"
        },
        "id": "3kHsnP8jZDyB",
        "outputId": "8cba3dc0-9d74-47eb-8950-bae3e055cfbe"
      },
      "execution_count": 3,
      "outputs": [
        {
          "output_type": "stream",
          "name": "stdout",
          "text": [
            "Матриця:\n",
            "[[99  6 27 41 73 97 87 83]\n",
            " [31  7 29 59 18 96 79 14]\n",
            " [23 30 51 57 65 49 32 98]\n",
            " [20 24  8 33 32 71 71 50]\n",
            " [95 51  2 33 60 17 72 16]\n",
            " [14 74 22 33 52 25 65 93]\n",
            " [72 22 38 49 80 56 92  4]\n",
            " [95 70 82 98 93 56  1 12]]\n",
            "Середнє арифметичне елементів матриці: 50.0625\n"
          ]
        }
      ]
    },
    {
      "cell_type": "code",
      "source": [
        "#Завдання 4\n",
        "#Створіть масив розміром 4x4, заповніть його випадковими дійсними числами в діапазоні від 0 до 1 та знайдіть кількість елементів, що більше 0.5.\n",
        "import numpy as np\n",
        "n = 4\n",
        "matrix = np.random.rand(n, n)\n",
        "print(\"Матриця:\")\n",
        "print(matrix)\n",
        "count_above_0_5 = np.sum(matrix > 0.5)\n",
        "print(f\"Кількість елементів, більших за 0.5: {count_above_0_5}\")\n"
      ],
      "metadata": {
        "colab": {
          "base_uri": "https://localhost:8080/"
        },
        "id": "kjdfj0uGZPVc",
        "outputId": "b998bdc0-8f6b-4873-abc8-eb5b0ffd97dd"
      },
      "execution_count": 4,
      "outputs": [
        {
          "output_type": "stream",
          "name": "stdout",
          "text": [
            "Матриця:\n",
            "[[0.14210006 0.06847478 0.10900624 0.57212121]\n",
            " [0.8633222  0.04617326 0.22345677 0.72759769]\n",
            " [0.8000421  0.10110956 0.59010539 0.55485798]\n",
            " [0.16222038 0.86726897 0.27480226 0.81614908]]\n",
            "Кількість елементів, більших за 0.5: 8\n"
          ]
        }
      ]
    },
    {
      "cell_type": "code",
      "source": [
        "#Завдання 5\n",
        "#Створіть два одновимірних масиви розміром 7, заповніть їх випадковими цілими числами від -15 до 15 та виконайте на них поелементні операції додавання, віднімання та множення.\n",
        "import numpy as np\n",
        "n = 7\n",
        "array1 = np.random.randint(-15, 16, size=n)\n",
        "array2 = np.random.randint(-15, 16, size=n)\n",
        "print(\"Перший масив:\", array1)\n",
        "print(\"Другий масив:\", array2)\n",
        "addition_result = array1 + array2\n",
        "subtraction_result = array1 - array2\n",
        "multiplication_result = array1 * array2\n",
        "print(\"Результат додавання:\", addition_result)\n",
        "print(\"Результат віднімання:\", subtraction_result)\n",
        "print(\"Результат множення:\", multiplication_result)\n"
      ],
      "metadata": {
        "colab": {
          "base_uri": "https://localhost:8080/"
        },
        "id": "loIWf9-_ZXL2",
        "outputId": "d3b7479a-e9c5-4708-f01e-5bdcec2730ef"
      },
      "execution_count": 5,
      "outputs": [
        {
          "output_type": "stream",
          "name": "stdout",
          "text": [
            "Перший масив: [-10   2 -12  10   0  -8   2]\n",
            "Другий масив: [  8 -11 -10  -9  11  13   8]\n",
            "Результат додавання: [ -2  -9 -22   1  11   5  10]\n",
            "Результат віднімання: [-18  13  -2  19 -11 -21  -6]\n",
            "Результат множення: [ -80  -22  120  -90    0 -104   16]\n"
          ]
        }
      ]
    },
    {
      "cell_type": "code",
      "source": [
        "#Завдання 6\n",
        "#Створіть два вектори розміром 7, заповніть їх довільними цілими числами та знайдіть їх скалярний добуток.\n",
        "import numpy as np\n",
        "n = 7\n",
        "vector1 = np.random.randint(-10, 11, size=n)\n",
        "vector2 = np.random.randint(-10, 11, size=n)\n",
        "print(\"Перший вектор:\", vector1)\n",
        "print(\"Другий вектор:\", vector2)\n",
        "dot_product = np.dot(vector1, vector2)\n",
        "print(\"Скалярний добуток:\", dot_product)\n"
      ],
      "metadata": {
        "colab": {
          "base_uri": "https://localhost:8080/"
        },
        "id": "BHPee1yVZts4",
        "outputId": "f5f159fe-7cd1-4f50-afd5-2543f8edb3b9"
      },
      "execution_count": 6,
      "outputs": [
        {
          "output_type": "stream",
          "name": "stdout",
          "text": [
            "Перший вектор: [ 8  4  3 -5  7 -1 -6]\n",
            "Другий вектор: [  1 -10   5 -10   0  -8   4]\n",
            "Скалярний добуток: 17\n"
          ]
        }
      ]
    },
    {
      "cell_type": "code",
      "source": [
        "#Завдання 7\n",
        "#Створіть дві матриці розміром 4x2 та 2x5, заповніть їх випадковими цілими числами в діапазоні від 1 до 12 та перемножте їх між собою.\n",
        "import numpy as np\n",
        "m1, n1 = 4, 2\n",
        "m2, n2 = 2, 5\n",
        "matrix1 = np.random.randint(1, 13, size=(m1, n1))\n",
        "matrix2 = np.random.randint(1, 13, size=(m2, n2))\n",
        "print(\"Перша матриця:\")\n",
        "print(matrix1)\n",
        "print(\"Друга матриця:\")\n",
        "print(matrix2)\n",
        "result_matrix = np.dot(matrix1, matrix2)\n",
        "print(\"Результат перемноження матриць:\")\n",
        "print(result_matrix)\n"
      ],
      "metadata": {
        "colab": {
          "base_uri": "https://localhost:8080/"
        },
        "id": "JumpZYX0aE65",
        "outputId": "8d89a558-fc3d-43d6-c68b-93b30db25e9a"
      },
      "execution_count": 7,
      "outputs": [
        {
          "output_type": "stream",
          "name": "stdout",
          "text": [
            "Перша матриця:\n",
            "[[ 9  1]\n",
            " [11  9]\n",
            " [12  2]\n",
            " [ 1 10]]\n",
            "Друга матриця:\n",
            "[[ 5  5 12  3  2]\n",
            " [ 9  9  6  1  9]]\n",
            "Результат перемноження матриць:\n",
            "[[ 54  54 114  28  27]\n",
            " [136 136 186  42 103]\n",
            " [ 78  78 156  38  42]\n",
            " [ 95  95  72  13  92]]\n"
          ]
        }
      ]
    },
    {
      "cell_type": "code",
      "source": [
        "#Завдання 8\n",
        "#Створіть матрицю розміром 2x2, заповніть її випадковими цілими числами в діапазоні від 1 до 12 та знайдіть її обернену матрицю.\n",
        "import numpy as np\n",
        "n = 2\n",
        "matrix = np.random.randint(1, 13, size=(n, n))\n",
        "print(\"Матриця:\")\n",
        "print(matrix)\n",
        "try:\n",
        "    inverse_matrix = np.linalg.inv(matrix)\n",
        "    print(\"Обернена матриця:\")\n",
        "    print(inverse_matrix)\n",
        "except np.linalg.LinAlgError:\n",
        "    print(\"Ця матриця не має оберненої матриці, оскільки вона є сингулярною.\")\n"
      ],
      "metadata": {
        "colab": {
          "base_uri": "https://localhost:8080/"
        },
        "id": "SR7O-mvkaPOM",
        "outputId": "923401a5-6964-4ad5-d8b2-3a6235d32826"
      },
      "execution_count": 8,
      "outputs": [
        {
          "output_type": "stream",
          "name": "stdout",
          "text": [
            "Матриця:\n",
            "[[10  4]\n",
            " [ 8  4]]\n",
            "Обернена матриця:\n",
            "[[ 0.5  -0.5 ]\n",
            " [-1.    1.25]]\n"
          ]
        }
      ]
    },
    {
      "cell_type": "code",
      "source": [
        "#Завдання 9\n",
        "#Створіть матрицю розміром 3x3, заповніть її випадковими дійсними числами в діапазоні від 0 до 1 та транспонуйте її.\n",
        "import numpy as np\n",
        "n = 3\n",
        "matrix = np.random.rand(n, n)\n",
        "print(\"Початкова матриця:\")\n",
        "print(matrix)\n",
        "transposed_matrix = np.transpose(matrix)\n",
        "print(\"Транспонована матриця:\")\n",
        "print(transposed_matrix)\n"
      ],
      "metadata": {
        "colab": {
          "base_uri": "https://localhost:8080/"
        },
        "id": "hguylsmXac5n",
        "outputId": "957e7f6d-2acb-4dcc-e702-2952e41e7d8f"
      },
      "execution_count": 9,
      "outputs": [
        {
          "output_type": "stream",
          "name": "stdout",
          "text": [
            "Початкова матриця:\n",
            "[[0.19574336 0.17118037 0.15354335]\n",
            " [0.21687254 0.50748869 0.5452408 ]\n",
            " [0.78251162 0.24518753 0.31514828]]\n",
            "Транспонована матриця:\n",
            "[[0.19574336 0.21687254 0.78251162]\n",
            " [0.17118037 0.50748869 0.24518753]\n",
            " [0.15354335 0.5452408  0.31514828]]\n"
          ]
        }
      ]
    },
    {
      "cell_type": "code",
      "source": [
        "#Завдання 10\n",
        "#Створіть матрицю розміром 3x4 та вектор розміром 4, заповніть матрицю випадковими дійсними числами від 0 до 1, а вектор - випадковими дійсними числами від 0 до 1, і знайдіть добуток вектора на матрицю.\n",
        "import numpy as np\n",
        "m, n = 3, 4\n",
        "matrix = np.random.rand(m, n)\n",
        "vector = np.random.rand(n)\n",
        "print(\"Матриця:\")\n",
        "print(matrix)\n",
        "print(\"Вектор:\")\n",
        "print(vector)\n",
        "result = np.dot(matrix, vector)\n",
        "print(\"Добуток вектора на матрицю:\")\n",
        "print(result)\n"
      ],
      "metadata": {
        "colab": {
          "base_uri": "https://localhost:8080/"
        },
        "id": "G5CoZjL8ajUV",
        "outputId": "7f0daab9-9da2-40d3-db19-c18800f163cf"
      },
      "execution_count": 10,
      "outputs": [
        {
          "output_type": "stream",
          "name": "stdout",
          "text": [
            "Матриця:\n",
            "[[0.71569774 0.11841384 0.68015717 0.07989155]\n",
            " [0.4348733  0.62059333 0.9538985  0.68517564]\n",
            " [0.0853148  0.46984092 0.55949487 0.23808503]]\n",
            "Вектор:\n",
            "[0.45271017 0.65652644 0.05606482 0.48848289]\n",
            "Добуток вектора на матрицю:\n",
            "[0.47890401 0.99248423 0.49475431]\n"
          ]
        }
      ]
    },
    {
      "cell_type": "code",
      "source": [
        "#Завдання 11\n",
        "#Створіть матрицю розміром 2x3 та вектор розміром 3, заповніть матрицю випадковими дійсними числами від 0 до 1, а вектор - випадковими цілими числами в діапазоні від 1 до 10, і знайдіть добуток вектора на матрицю.\n",
        "import numpy as np\n",
        "matrix = np.random.rand(2, 3)\n",
        "vector = np.random.randint(1, 11, size=3)\n",
        "result = np.dot(vector, matrix)\n",
        "print(\"Матриця 2x3:\")\n",
        "print(matrix)\n",
        "print(\"\\nВектор:\")\n",
        "print(vector)\n",
        "print(\"\\nДобуток вектора на матрицю:\")\n",
        "print(result)\n",
        "\n"
      ],
      "metadata": {
        "id": "muMXv6EVa9xw"
      },
      "execution_count": 23,
      "outputs": []
    },
    {
      "cell_type": "code",
      "source": [
        "#Завдання 12\n",
        "#Створіть дві матриці розміром 4x4, заповніть їх випадковими цілими числами в діапазоні від 1 до 10 та знайдіть різницю всіх елементів обох матриць.\n",
        "import numpy as np\n",
        "matrix1 = np.random.randint(1, 11, size=(4, 4))\n",
        "matrix2 = np.random.randint(1, 11, size=(4, 4))\n",
        "difference_matrix = matrix1 - matrix2\n",
        "print(\"Перша матриця:\")\n",
        "print(matrix1)\n",
        "print(\"\\nДруга матриця:\")\n",
        "print(matrix2)\n",
        "print(\"\\nРізниця матриць:\")\n",
        "print(difference_matrix)\n"
      ],
      "metadata": {
        "colab": {
          "base_uri": "https://localhost:8080/"
        },
        "id": "Xlh99U_TbBWE",
        "outputId": "6f77a7ce-789e-4d86-cf1f-2301f282bbe3"
      },
      "execution_count": 16,
      "outputs": [
        {
          "output_type": "stream",
          "name": "stdout",
          "text": [
            "Перша матриця:\n",
            "[[ 7  4  3  8]\n",
            " [ 5  6  4  9]\n",
            " [10  9  7  3]\n",
            " [ 8 10  6  6]]\n",
            "\n",
            "Друга матриця:\n",
            "[[ 6  7  2 10]\n",
            " [ 9  2  3  4]\n",
            " [10  4  4 10]\n",
            " [ 6 10  3  2]]\n",
            "\n",
            "Різниця матриць:\n",
            "[[ 1 -3  1 -2]\n",
            " [-4  4  1  5]\n",
            " [ 0  5  3 -7]\n",
            " [ 2  0  3  4]]\n"
          ]
        }
      ]
    },
    {
      "cell_type": "code",
      "source": [
        "#Завдання 13\n",
        "#Створіть дві матриці розміром 3x3, заповніть їх випадковими дійсними числами в діапазоні від -1 до 1 та знайдіть суму їх елементів.\n",
        "import numpy as np\n",
        "matrix1 = np.random.uniform(-1, 1, size=(3, 3))\n",
        "matrix2 = np.random.uniform(-1, 1, size=(3, 3))\n",
        "sum_of_matrices = matrix1 + matrix2\n",
        "print(\"Перша матриця:\")\n",
        "print(matrix1)\n",
        "print(\"\\nДруга матриця:\")\n",
        "print(matrix2)\n",
        "print(\"\\nСума матриць:\")\n",
        "print(sum_of_matrices)\n"
      ],
      "metadata": {
        "colab": {
          "base_uri": "https://localhost:8080/"
        },
        "id": "GQD924a3bFVm",
        "outputId": "ec13d547-b7e2-4d59-8d30-59a73ce175a9"
      },
      "execution_count": 17,
      "outputs": [
        {
          "output_type": "stream",
          "name": "stdout",
          "text": [
            "Перша матриця:\n",
            "[[ 0.74116649  0.74391561 -0.88741419]\n",
            " [ 0.4383219  -0.82675349  0.4164989 ]\n",
            " [ 0.44933275 -0.07287746 -0.8765617 ]]\n",
            "\n",
            "Друга матриця:\n",
            "[[ 0.08967963  0.55146542  0.23101171]\n",
            " [ 0.92361633 -0.13166541 -0.21435711]\n",
            " [ 0.84696651  0.20743515 -0.56835609]]\n",
            "\n",
            "Сума матриць:\n",
            "[[ 0.83084612  1.29538103 -0.65640248]\n",
            " [ 1.36193823 -0.9584189   0.20214179]\n",
            " [ 1.29629926  0.1345577  -1.44491778]]\n"
          ]
        }
      ]
    },
    {
      "cell_type": "code",
      "source": [
        "#Завдання 14\n",
        "#Створіть матрицю розміром 9x9, заповніть її випадковими дійсними числами в діапазоні від -10 до 10 та знайдіть кількість парних елементів матриці.\n",
        "import numpy as np\n",
        "matrix = np.random.uniform(-10, 10, size=(9, 9))\n",
        "count_even_elements = np.sum(matrix % 2 == 0)\n",
        "print(\"Матриця 9x9:\")\n",
        "print(matrix)\n",
        "print(\"\\nКількість парних елементів у матриці: \", count_even_elements)\n"
      ],
      "metadata": {
        "colab": {
          "base_uri": "https://localhost:8080/"
        },
        "id": "_vy_7amgbIW6",
        "outputId": "29c34156-7737-4d1f-bd1b-21bb06a07775"
      },
      "execution_count": 18,
      "outputs": [
        {
          "output_type": "stream",
          "name": "stdout",
          "text": [
            "Матриця 9x9:\n",
            "[[ 7.49265336  1.73394719  0.51736987 -6.40164366  7.5846974  -8.86647739\n",
            "   2.46279392 -5.7695348  -2.60296074]\n",
            " [ 1.07370204  6.36011331  5.08380087 -8.45230987  8.96655051 -3.14617157\n",
            "  -1.46422677 -3.28071344  7.5123562 ]\n",
            " [-4.21613069 -0.4182461   8.51374156  0.73982141  7.29402077 -1.8275633\n",
            "   0.18644981 -0.2790911  -0.21611306]\n",
            " [ 3.29974414 -6.60128206 -5.82598407  3.82710931  2.35538662 -9.58583103\n",
            "   5.9692999  -1.71062691 -3.9060812 ]\n",
            " [ 6.66796931  5.41680076  5.63090653 -6.92582795 -2.61878253 -8.98855769\n",
            "   7.81341799  4.82831899 -6.65016748]\n",
            " [-6.03504629  1.08715632 -4.06498203  8.48280545  0.78435318  3.17346547\n",
            "   1.05990984  0.33725919 -1.25374753]\n",
            " [-0.40057849 -9.08257263 -3.44104866 -8.67223661 -4.74030177 -6.95983272\n",
            "   4.25205161  8.70105014 -0.45208806]\n",
            " [ 1.7374717  -7.3534684   0.75894091 -0.58807624  5.50208851  7.63610017\n",
            "   9.69357617  9.31484276 -4.72246746]\n",
            " [-9.77018174  3.08305802  6.73922098  7.73135269  9.68657062  1.14494425\n",
            "   1.45729753  8.58370139 -9.67682313]]\n",
            "\n",
            "Кількість парних елементів у матриці:  0\n"
          ]
        }
      ]
    },
    {
      "cell_type": "code",
      "source": [
        "#Завдання 15\n",
        "#Створіть матрицю розміром 5x5, заповніть її випадковими дійсними числами в діапазоні від -0.5 до 0.5 та знайдіть вектор-стовпчик, що містить середнє геометричне значення елементів кожного рядка матриці.\n",
        "import numpy as np\n",
        "matrix = np.random.uniform(-0.5, 0.5, size=(5, 5))\n",
        "geometric_means = np.prod(matrix, axis=1) ** (1/5)\n",
        "geometric_means_column = geometric_means.reshape(5, 1)\n",
        "print(\"Матриця 5x5:\")\n",
        "print(matrix)\n",
        "print(\"\\nСереднє геометричне для кожного рядка:\")\n",
        "print(geometric_means_column)\n",
        "\n"
      ],
      "metadata": {
        "colab": {
          "base_uri": "https://localhost:8080/"
        },
        "id": "fAbNzZJ7bO3f",
        "outputId": "2bfe0791-859a-4b89-cf7b-18fa81a48420"
      },
      "execution_count": 19,
      "outputs": [
        {
          "output_type": "stream",
          "name": "stdout",
          "text": [
            "Матриця 5x5:\n",
            "[[ 2.12734886e-01 -2.87325053e-01 -2.13569983e-01 -3.14126160e-01\n",
            "  -3.72340339e-02]\n",
            " [-5.61044728e-02 -5.57093777e-02 -4.47668274e-01 -1.27032168e-01\n",
            "   3.18878840e-01]\n",
            " [ 6.33918760e-02  4.42932206e-01  1.14049938e-01 -6.15720810e-02\n",
            "   3.56986242e-01]\n",
            " [-4.59003466e-01 -4.54643474e-02  1.20977774e-01  3.08670467e-01\n",
            "   2.18897475e-01]\n",
            " [-3.99578523e-01 -7.69364399e-05  2.20530283e-01  1.23557878e-01\n",
            "  -5.28062140e-02]]\n",
            "\n",
            "Середнє геометричне для кожного рядка:\n",
            "[[0.17248817]\n",
            " [0.1414765 ]\n",
            " [       nan]\n",
            " [0.17635414]\n",
            " [       nan]]\n"
          ]
        },
        {
          "output_type": "stream",
          "name": "stderr",
          "text": [
            "<ipython-input-19-a9ce787bc2e6>:5: RuntimeWarning: invalid value encountered in power\n",
            "  geometric_means = np.prod(matrix, axis=1) ** (1/5)\n"
          ]
        }
      ]
    }
  ]
}